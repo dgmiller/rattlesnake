{
 "cells": [
  {
   "cell_type": "code",
   "execution_count": 1,
   "metadata": {
    "collapsed": true
   },
   "outputs": [],
   "source": [
    "import numpy as np\n",
    "import pandas as pd\n",
    "from matplotlib import pyplot as plt\n",
    "import pydataset\n",
    "%matplotlib inline"
   ]
  },
  {
   "cell_type": "code",
   "execution_count": 2,
   "metadata": {
    "collapsed": false
   },
   "outputs": [],
   "source": [
    "# data searched up to 210\n",
    "#pydataset.data()[200:210]"
   ]
  },
  {
   "cell_type": "code",
   "execution_count": 3,
   "metadata": {
    "collapsed": true
   },
   "outputs": [],
   "source": [
    "dataset = ['HairEyeColor','Nile','UCBAdmissions',\n",
    "           'Titanic','USArrests','USPersonalExpenditure',\n",
    "           'airquality','occupationalStatus','sleep',\n",
    "          'cushny','InstEval','sleepstudy',\n",
    "          'delivery','radarImage','Highway1']"
   ]
  },
  {
   "cell_type": "code",
   "execution_count": 4,
   "metadata": {
    "collapsed": false
   },
   "outputs": [
    {
     "data": {
      "text/html": [
       "<div>\n",
       "<table border=\"1\" class=\"dataframe\">\n",
       "  <thead>\n",
       "    <tr style=\"text-align: right;\">\n",
       "      <th></th>\n",
       "      <th>Hair</th>\n",
       "      <th>Eye</th>\n",
       "      <th>Sex</th>\n",
       "      <th>Freq</th>\n",
       "    </tr>\n",
       "  </thead>\n",
       "  <tbody>\n",
       "    <tr>\n",
       "      <th>1</th>\n",
       "      <td>Black</td>\n",
       "      <td>Brown</td>\n",
       "      <td>Male</td>\n",
       "      <td>32</td>\n",
       "    </tr>\n",
       "    <tr>\n",
       "      <th>2</th>\n",
       "      <td>Brown</td>\n",
       "      <td>Brown</td>\n",
       "      <td>Male</td>\n",
       "      <td>53</td>\n",
       "    </tr>\n",
       "    <tr>\n",
       "      <th>3</th>\n",
       "      <td>Red</td>\n",
       "      <td>Brown</td>\n",
       "      <td>Male</td>\n",
       "      <td>10</td>\n",
       "    </tr>\n",
       "    <tr>\n",
       "      <th>4</th>\n",
       "      <td>Blond</td>\n",
       "      <td>Brown</td>\n",
       "      <td>Male</td>\n",
       "      <td>3</td>\n",
       "    </tr>\n",
       "    <tr>\n",
       "      <th>5</th>\n",
       "      <td>Black</td>\n",
       "      <td>Blue</td>\n",
       "      <td>Male</td>\n",
       "      <td>11</td>\n",
       "    </tr>\n",
       "  </tbody>\n",
       "</table>\n",
       "</div>"
      ],
      "text/plain": [
       "    Hair    Eye   Sex  Freq\n",
       "1  Black  Brown  Male    32\n",
       "2  Brown  Brown  Male    53\n",
       "3    Red  Brown  Male    10\n",
       "4  Blond  Brown  Male     3\n",
       "5  Black   Blue  Male    11"
      ]
     },
     "execution_count": 4,
     "metadata": {},
     "output_type": "execute_result"
    }
   ],
   "source": [
    "df0 = pydataset.data(dataset[0])\n",
    "df0.head()"
   ]
  },
  {
   "cell_type": "code",
   "execution_count": 16,
   "metadata": {
    "collapsed": false
   },
   "outputs": [],
   "source": [
    "trumpfile = open('/home/derek/Desktop/trump.txt','r').readlines()"
   ]
  },
  {
   "cell_type": "code",
   "execution_count": 25,
   "metadata": {
    "collapsed": false
   },
   "outputs": [
    {
     "name": "stdout",
     "output_type": "stream",
     "text": [
      "2666820 2666820\n"
     ]
    }
   ],
   "source": [
    "# bad columns: 6989, 6991, 16631, 16632\n",
    "trump_stats = []\n",
    "trump_words = []\n",
    "for line in trumpfile:\n",
    "    line = line.split('\\t')\n",
    "    trump_stats.append(line[:-1])\n",
    "    trump_words.append(line[-1])\n",
    "print len(trump_stats),len(trump_words)"
   ]
  },
  {
   "cell_type": "code",
   "execution_count": 26,
   "metadata": {
    "collapsed": false
   },
   "outputs": [
    {
     "data": {
      "text/plain": [
       "2666820"
      ]
     },
     "execution_count": 26,
     "metadata": {},
     "output_type": "execute_result"
    }
   ],
   "source": [
    "len(trumpfile)"
   ]
  },
  {
   "cell_type": "code",
   "execution_count": 27,
   "metadata": {
    "collapsed": false
   },
   "outputs": [
    {
     "data": {
      "text/plain": [
       "[['1476885613849', '684', '4048', '1221'],\n",
       " ['1476885614680', '90', '772', '107'],\n",
       " ['1476885614523', '242', '11124', '273'],\n",
       " ['1476885614734', '10', '271', '10'],\n",
       " ['1476885614711', '1730', '27397', '2370']]"
      ]
     },
     "execution_count": 27,
     "metadata": {},
     "output_type": "execute_result"
    }
   ],
   "source": [
    "trump_stats[:5]"
   ]
  },
  {
   "cell_type": "code",
   "execution_count": 39,
   "metadata": {
    "collapsed": false
   },
   "outputs": [],
   "source": [
    "import datetime\n",
    "import time"
   ]
  },
  {
   "cell_type": "code",
   "execution_count": 60,
   "metadata": {
    "collapsed": false
   },
   "outputs": [
    {
     "name": "stdout",
     "output_type": "stream",
     "text": [
      "1478681191.0\n",
      "1478968877.54\n"
     ]
    }
   ],
   "source": [
    "trumptime = float(trump_stats[-1][0][0:10])\n",
    "print trumptime\n",
    "print time.time()"
   ]
  },
  {
   "cell_type": "code",
   "execution_count": 61,
   "metadata": {
    "collapsed": true
   },
   "outputs": [],
   "source": [
    "d1 = datetime.datetime.fromtimestamp(time.time())\n",
    "d2 = datetime.datetime.fromtimestamp(trumptime)"
   ]
  },
  {
   "cell_type": "code",
   "execution_count": 62,
   "metadata": {
    "collapsed": false
   },
   "outputs": [
    {
     "name": "stdout",
     "output_type": "stream",
     "text": [
      "2016-11-12 09:41:19.315793\n",
      "2016-11-09 01:46:31\n"
     ]
    }
   ],
   "source": [
    "print d1.date(),d1.time()\n",
    "print d2.date(),d2.time()"
   ]
  },
  {
   "cell_type": "code",
   "execution_count": 63,
   "metadata": {
    "collapsed": false
   },
   "outputs": [
    {
     "data": {
      "text/plain": [
       "['\"\"\"I liked a @YouTube video from @thefader https://t.co/B3r6N8lUep What Would You Say To Donald Trump?\"\"\"\\n',\n",
       " '\"\"\"Trump Calls US Elections Rigged, Blockchain Could Make Them Honest https://t.co/vWaDcdhgOL\"\"\"\\n',\n",
       " '\"\"\"Because most men are good guys and realize and disagree with Trump\\'s view and treatment of women...their Moms, Aunts and Sisters #NeverTrump\"\"\"\\n',\n",
       " '\"\"\"@hmrstrm45 @mitchellvii @nypost I\\'m smart enough to know Trump loses, bigly\"\"\"\\n',\n",
       " '\"\"\"RT @kurteichenwald: After decades of wrecking everything he touches, Trump is now completing his most astonishing demolition: the GOP. http\"\"\"\\n']"
      ]
     },
     "execution_count": 63,
     "metadata": {},
     "output_type": "execute_result"
    }
   ],
   "source": [
    "trump_words[:5]"
   ]
  },
  {
   "cell_type": "code",
   "execution_count": null,
   "metadata": {
    "collapsed": true
   },
   "outputs": [],
   "source": []
  }
 ],
 "metadata": {
  "kernelspec": {
   "display_name": "Python [Root]",
   "language": "python",
   "name": "Python [Root]"
  },
  "language_info": {
   "codemirror_mode": {
    "name": "ipython",
    "version": 2
   },
   "file_extension": ".py",
   "mimetype": "text/x-python",
   "name": "python",
   "nbconvert_exporter": "python",
   "pygments_lexer": "ipython2",
   "version": "2.7.12"
  }
 },
 "nbformat": 4,
 "nbformat_minor": 0
}
