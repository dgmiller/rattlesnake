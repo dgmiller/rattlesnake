{
 "cells": [
  {
   "cell_type": "markdown",
   "metadata": {},
   "source": [
    "# Flyin' High"
   ]
  },
  {
   "cell_type": "markdown",
   "metadata": {},
   "source": [
    "Find the probability that your seat is empty on a plane with n seats and n passengers, the first passenger ignoring his given seat number and sitting in a random seat. Each boarding passenger after the first can be modeled as a Bernoulli trial (either successfully sitting in their seat or failing and moving to a random seat)."
   ]
  },
  {
   "cell_type": "markdown",
   "metadata": {},
   "source": [
    " Suppose there are only two passengers and two seats. Then the first passenger chooses a seat randomly and you have a 1/2 chance of getting your seat. Suppose there are three passengers and three seats. Then there is a 1/3 chance that your seat is taken by the first passenger; if it is, then we have no chance of getting our own seat after the next passenger. But if the first passenger doesn't take our seat and instead chooses the next passenger's seat, then there is a 1/2 chance of getting our seat since the next passenger has to choose between our seat or the first passenger's seat. The third possibility is that the first passenger randomly chooses his own seat. This guarantees that we sit in our own seat. So our average of the three possibilities is (0+.5+1) / 3 = .5 or a 50% chance of getting our seat."
   ]
  },
  {
   "cell_type": "markdown",
   "metadata": {},
   "source": [
    "We might guess that the probability of getting our seat with 100 passengers is 50%. We could prove this mathematically but instead, let's run an experiment. With some code, we can pretend that 100 passengers in 10,000 alternate universes all got in a line and boarded a plane in this way. By coding this scenario, we can then modify it to ask all sorts of other questions."
   ]
  },
  {
   "cell_type": "markdown",
   "metadata": {},
   "source": [
    "Methodology:\n",
    "- a passenger is just a seat number\n",
    "- randomize a queue of passengers (seat numbers)\n",
    "- create an array of n airplane seats\n",
    "- the passenger takes a seat by setting that seat number equal to zero\n",
    "- choose a random integer from the interval [1, n]\n",
    "- assign the first passenger (seat number) to that spot\n",
    "- iterate through the queue of passengers\n",
    "    - if the seat number is set to zero (it's taken), move to a random nonzero seat\n",
    "    - otherwise take a seat and set it to zero\n",
    "- see if the last passenger gets their seat\n",
    "- run 10,000 trials of this experiment and average the result to see the probability"
   ]
  },
  {
   "cell_type": "code",
   "execution_count": 1,
   "metadata": {
    "collapsed": false
   },
   "outputs": [],
   "source": [
    "# import statements\n",
    "import numpy as np"
   ]
  },
  {
   "cell_type": "code",
   "execution_count": 2,
   "metadata": {
    "collapsed": false
   },
   "outputs": [],
   "source": [
    "def empty_seat(n=100, m=100):\n",
    "    \"\"\"\n",
    "    Function that tells you if your seat is empty\n",
    "    \n",
    "    Input:\n",
    "        n (int), number of passengers; defaults to 100\n",
    "        m (int), number of seats on the plane; defaults to 100\n",
    "    returns: empty_seat (bool), taken if 0 or empty if 1\n",
    "    \"\"\"\n",
    "    # initialize the random queue of passengers implemented as a numpy array\n",
    "    passengers = np.random.permutation(np.arange(1,n+1)) # 100 passengers with tickets 1-100\n",
    "    \n",
    "    #use these print statements for a play-by-play of what's happening for small values of n\n",
    "    #print(\"First Passenger has ticket %d\") % passengers[0]\n",
    "    #print(\"Last Passenger has ticket %d\") % passengers[-1]\n",
    "    \n",
    "    # initialize the airplane seats\n",
    "    seats = np.arange(1,m+1) # 1-100\n",
    "    first_seat = np.random.randint(1,m+1) # choose from any random seat 1-100\n",
    "    seats[first_seat-1] = 0 # this indicates that the first passenger took a random seat\n",
    "    \n",
    "    #print(\"First Passenger %d took seat %d = %d\") % (passengers[0], first_seat, seats[first_seat-1])\n",
    "    \n",
    "    for p in passengers[1:-1]:\n",
    "        leftover_seats = seats.ravel()[np.flatnonzero(seats)] # the remaining seats\n",
    "        #print(leftover_seats)\n",
    "        if seats[p-1] == 0: # the passenger p's seat is taken\n",
    "            #print(\"seat %d taken\") % p\n",
    "            i = np.random.randint(0,len(leftover_seats)) # choose a random seat (by index)\n",
    "            new_seat = leftover_seats[i]\n",
    "            seats[new_seat-1] = 0 # this seat is taken\n",
    "            #print(\"passenger %d took seat %d = %d\") % (p, new_seat, seats[new_seat-1])\n",
    "        else:\n",
    "            if seats[p-1] == p:\n",
    "                # this checks to make sure the ticket is correct and passenger takes their seat\n",
    "                pseat = seats[p-1]\n",
    "                seats[p-1] = 0\n",
    "                #print(\"passenger %d took seat %d = %d\") % (p, pseat, seats[p-1])\n",
    "            else:\n",
    "                # something is wrong, raise an error\n",
    "                print(p)\n",
    "                raise ValueError(\"seat number empty but not correct\")\n",
    "    #the_rest = seats.ravel()[np.flatnonzero(seats)]\n",
    "    #print(the_rest)\n",
    "    #print(passengers[-1])\n",
    "    if seats[passengers[-1]-1] == 0:\n",
    "        #print(\"your seat was taken\")\n",
    "        return 0\n",
    "    else:\n",
    "        #print(\"Your seat is empty\")\n",
    "        return 1"
   ]
  },
  {
   "cell_type": "code",
   "execution_count": 3,
   "metadata": {
    "collapsed": true
   },
   "outputs": [],
   "source": [
    "def experiment(n=100, m=100, trials=10000):\n",
    "    \"\"\"returns an average probability from a given number of trials and number of seats.\n",
    "    Inputs:\n",
    "        n (int) defaults to 100\n",
    "        m (int) defaults to 100\n",
    "        trials (int) defaults to 10,000\n",
    "    returns the probability of getting your seat\n",
    "    \"\"\"\n",
    "    P = []\n",
    "    for x in xrange(trials):\n",
    "        #print(\"\\n\\n\\tNEW TRIAL\")\n",
    "        P.append(empty_seat(n,m))\n",
    "    return float(sum(P))/trials"
   ]
  },
  {
   "cell_type": "code",
   "execution_count": 4,
   "metadata": {
    "collapsed": false
   },
   "outputs": [
    {
     "name": "stdout",
     "output_type": "stream",
     "text": [
      "0.4971\n"
     ]
    }
   ],
   "source": [
    "# run the experiment!\n",
    "print(experiment())"
   ]
  },
  {
   "cell_type": "markdown",
   "metadata": {},
   "source": [
    "**But not all airplanes are full...**"
   ]
  },
  {
   "cell_type": "markdown",
   "metadata": {},
   "source": [
    "What if some passengers didn't make the flight? The Boeing 747-400 passenger aircraft has a passenger capacity of 416 (according to Wikipedia). Let's say that 85% of people make their flights on this kind of aircraft. Now let's look at the probability that the last passenger's seat is empty."
   ]
  },
  {
   "cell_type": "code",
   "execution_count": 5,
   "metadata": {
    "collapsed": false
   },
   "outputs": [
    {
     "name": "stdout",
     "output_type": "stream",
     "text": [
      "0.9852\n"
     ]
    }
   ],
   "source": [
    "# multiply the number of people by .85\n",
    "n = int(416*.85)\n",
    "# keep the number of seats the same\n",
    "m = 416\n",
    "print(experiment(n, m))"
   ]
  },
  {
   "cell_type": "markdown",
   "metadata": {},
   "source": [
    "The probability is substantially higher. This should make sense since there are a lot more seats to choose from. We will end by considering the probability that the last passenger's seat is empty if 75, 85, 90, 95, and 99 percent of people make their flight."
   ]
  },
  {
   "cell_type": "code",
   "execution_count": 6,
   "metadata": {
    "collapsed": false
   },
   "outputs": [],
   "source": [
    "# 90% of people make their flight\n",
    "percentages = [.75, .85, .9, .95, .99, .999, 1.]\n",
    "L = [] # the list of percentages\n",
    "for i in percentages:\n",
    "    n = int(416*i)\n",
    "    m = 416\n",
    "    L.append(experiment(n,m))"
   ]
  },
  {
   "cell_type": "code",
   "execution_count": 7,
   "metadata": {
    "collapsed": false
   },
   "outputs": [
    {
     "name": "stdout",
     "output_type": "stream",
     "text": [
      "[0.9893, 0.9853, 0.9767, 0.9576, 0.8631, 0.6644, 0.499]\n"
     ]
    },
    {
     "data": {
      "text/plain": [
       "[<matplotlib.lines.Line2D at 0x7f1a077b0490>]"
      ]
     },
     "execution_count": 7,
     "metadata": {},
     "output_type": "execute_result"
    },
    {
     "data": {
      "image/png": "[encoded data removed]",
      "text/plain": [
       "<matplotlib.figure.Figure at 0x7f1a20102b10>"
      ]
     },
     "metadata": {},
     "output_type": "display_data"
    }
   ],
   "source": [
    "from matplotlib import pyplot as plt\n",
    "%matplotlib inline\n",
    "plt.style.use(\"fivethirtyeight\")\n",
    "print(L)\n",
    "#plot the results for several percentage values\n",
    "plt.plot(percentages, L)"
   ]
  },
  {
   "cell_type": "markdown",
   "metadata": {
    "collapsed": true
   },
   "source": [
    "Even if just one person doesn't get on the plane, your odds improve significantly (from 50% to about 66%). Pretty cool!"
   ]
  },
  {
   "cell_type": "code",
   "execution_count": null,
   "metadata": {
    "collapsed": true
   },
   "outputs": [],
   "source": []
  }
 ],
 "metadata": {
  "kernelspec": {
   "display_name": "Python [Root]",
   "language": "python",
   "name": "Python [Root]"
  },
  "language_info": {
   "codemirror_mode": {
    "name": "ipython",
    "version": 2
   },
   "file_extension": ".py",
   "mimetype": "text/x-python",
   "name": "python",
   "nbconvert_exporter": "python",
   "pygments_lexer": "ipython2",
   "version": "2.7.12"
  }
 },
 "nbformat": 4,
 "nbformat_minor": 0
}
