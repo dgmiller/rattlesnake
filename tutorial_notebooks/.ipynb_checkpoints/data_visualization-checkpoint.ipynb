{
 "cells": [
  {
   "cell_type": "markdown",
   "metadata": {},
   "source": [
    "# WAVE\n",
    "\n",
    "**Workshop for Analytical Visualization and Exploration**"
   ]
  },
  {
   "cell_type": "markdown",
   "metadata": {},
   "source": [
    "This notebook is meant to show what I mean by 'Visual Thinking'. Everything you need is provided below. No coding necessary. Just uncomment the code and run the cell by pressing **SHIFT + ENTER** on your keyboard.\n",
    "\n",
    "Here are some examples I will refer to as we talk about the principles of visual thinking:\n",
    "+ Parable of the Polygons: http://ncase.me/polygons/\n",
    "+ Betterment: https://www.betterment.com/portfolio/\n",
    "+ Feynman Diagram: https://en.wikipedia.org/wiki/Feynman_diagram\n",
    "+ Challenger PowerPoint: http://businessofstory.com/wp-content/uploads/2013/01/Columbiappt.jpg\n",
    "+ Using Words: http://writingcenter.unc.edu/handouts/sciences/\n",
    "+ Volume 3 Lab: http://www.acme.byu.edu/wp-content/uploads/2016/09/Vol3A-Pandas3-2016.pdf\n",
    "\n",
    "Extra stuff:\n",
    "+ Gapminder: https://www.ted.com/talks/hans_rosling_shows_the_best_stats_you_ve_ever_seen?language=en\n",
    "+ 3blue1brown: https://www.youtube.com/watch?v=PFDu9oVAE-g\n",
    "+ A Visual Intro to Machine Learning: http://www.r2d3.us/visual-intro-to-machine-learning-part-1/\n",
    "+ Rent or Buy?: http://www.nytimes.com/interactive/2014/upshot/buy-rent-calculator.html?_r=0\n",
    "+ Gun Deaths in America: http://fivethirtyeight.com/features/gun-deaths/\n",
    "+ Visualizing the internet: http://internet-map.net/\n",
    "+ How we see color: https://www.pantone.com/how-do-we-see-color\n",
    "+ xkcd Earth Temperature: http://xkcd.com/1732/"
   ]
  },
  {
   "cell_type": "code",
   "execution_count": 1,
   "metadata": {
    "collapsed": false
   },
   "outputs": [],
   "source": [
    "import numpy as np\n",
    "import pydataset\n",
    "from scipy.stats import linregress\n",
    "from matplotlib import pyplot as plt\n",
    "%matplotlib inline"
   ]
  },
  {
   "cell_type": "code",
   "execution_count": 2,
   "metadata": {
    "collapsed": false
   },
   "outputs": [],
   "source": [
    "A1 = pydataset.data('Arbuthnot')\n",
    "A2 = pydataset.data('anscombe')"
   ]
  },
  {
   "cell_type": "markdown",
   "metadata": {},
   "source": [
    "**This data set is known as Anscombe's quartet.**"
   ]
  },
  {
   "cell_type": "code",
   "execution_count": 3,
   "metadata": {
    "collapsed": false
   },
   "outputs": [
    {
     "data": {
      "text/html": [
       "<div>\n",
       "<table border=\"1\" class=\"dataframe\">\n",
       "  <thead>\n",
       "    <tr style=\"text-align: right;\">\n",
       "      <th></th>\n",
       "      <th>x1</th>\n",
       "      <th>x2</th>\n",
       "      <th>x3</th>\n",
       "      <th>x4</th>\n",
       "      <th>y1</th>\n",
       "      <th>y2</th>\n",
       "      <th>y3</th>\n",
       "      <th>y4</th>\n",
       "    </tr>\n",
       "  </thead>\n",
       "  <tbody>\n",
       "    <tr>\n",
       "      <th>1</th>\n",
       "      <td>10</td>\n",
       "      <td>10</td>\n",
       "      <td>10</td>\n",
       "      <td>8</td>\n",
       "      <td>8.04</td>\n",
       "      <td>9.14</td>\n",
       "      <td>7.46</td>\n",
       "      <td>6.58</td>\n",
       "    </tr>\n",
       "    <tr>\n",
       "      <th>2</th>\n",
       "      <td>8</td>\n",
       "      <td>8</td>\n",
       "      <td>8</td>\n",
       "      <td>8</td>\n",
       "      <td>6.95</td>\n",
       "      <td>8.14</td>\n",
       "      <td>6.77</td>\n",
       "      <td>5.76</td>\n",
       "    </tr>\n",
       "    <tr>\n",
       "      <th>3</th>\n",
       "      <td>13</td>\n",
       "      <td>13</td>\n",
       "      <td>13</td>\n",
       "      <td>8</td>\n",
       "      <td>7.58</td>\n",
       "      <td>8.74</td>\n",
       "      <td>12.74</td>\n",
       "      <td>7.71</td>\n",
       "    </tr>\n",
       "    <tr>\n",
       "      <th>4</th>\n",
       "      <td>9</td>\n",
       "      <td>9</td>\n",
       "      <td>9</td>\n",
       "      <td>8</td>\n",
       "      <td>8.81</td>\n",
       "      <td>8.77</td>\n",
       "      <td>7.11</td>\n",
       "      <td>8.84</td>\n",
       "    </tr>\n",
       "    <tr>\n",
       "      <th>5</th>\n",
       "      <td>11</td>\n",
       "      <td>11</td>\n",
       "      <td>11</td>\n",
       "      <td>8</td>\n",
       "      <td>8.33</td>\n",
       "      <td>9.26</td>\n",
       "      <td>7.81</td>\n",
       "      <td>8.47</td>\n",
       "    </tr>\n",
       "  </tbody>\n",
       "</table>\n",
       "</div>"
      ],
      "text/plain": [
       "   x1  x2  x3  x4    y1    y2     y3    y4\n",
       "1  10  10  10   8  8.04  9.14   7.46  6.58\n",
       "2   8   8   8   8  6.95  8.14   6.77  5.76\n",
       "3  13  13  13   8  7.58  8.74  12.74  7.71\n",
       "4   9   9   9   8  8.81  8.77   7.11  8.84\n",
       "5  11  11  11   8  8.33  9.26   7.81  8.47"
      ]
     },
     "execution_count": 3,
     "metadata": {},
     "output_type": "execute_result"
    }
   ],
   "source": [
    "A2.head()"
   ]
  },
  {
   "cell_type": "markdown",
   "metadata": {},
   "source": [
    "Replace 'x1' and 'y1' in the cell below with two different corresponding columns. Uncomment the code to calculate the mean, standard deviation, correlation coefficient, and regression line. In the following cell, uncomment the code to plot each column pair."
   ]
  },
  {
   "cell_type": "code",
   "execution_count": 4,
   "metadata": {
    "collapsed": false
   },
   "outputs": [
    {
     "name": "stdout",
     "output_type": "stream",
     "text": [
      "Mean\n",
      "\n",
      "Standard Deviation\n",
      "\n",
      "Correlation Coefficient Matrix\n",
      "\n",
      "Line of Best Fit\n"
     ]
    }
   ],
   "source": [
    "print \"Mean\"\n",
    "#print A2[['x1','y1']].mean()\n",
    "print \"\\nStandard Deviation\"\n",
    "#print A2[['x1','y1']].std()\n",
    "print \"\\nCorrelation Coefficient Matrix\"\n",
    "#print np.corrcoef(A2['x1'].as_matrix(),A2['y1'].as_matrix())\n",
    "print \"\\nLine of Best Fit\"\n",
    "#eq1 = linregress(A2['x1'].as_matrix(),A2['y1'].as_matrix())\n",
    "#print 'y = %f x + %f' % (eq1[0],eq1[1])"
   ]
  },
  {
   "cell_type": "code",
   "execution_count": 5,
   "metadata": {
    "collapsed": false,
    "scrolled": false
   },
   "outputs": [
    {
     "data": {
      "image/png": "[encoded data removed]",
      "text/plain": [
       "<matplotlib.figure.Figure at 0x7f001694dc90>"
      ]
     },
     "metadata": {},
     "output_type": "display_data"
    }
   ],
   "source": [
    "fig,ax = plt.subplots(2,2,sharex=True,sharey=True)\n",
    "fig.set_figwidth(7)\n",
    "fig.set_figheight(6)\n",
    "#A2[['x1','y1']].plot(kind='scatter',x='x1',y='y1',linewidth=0,ax=ax[0,0])\n",
    "#A2[['x2','y2']].plot(kind='scatter',x='x2',y='y2',linewidth=0,ax=ax[0,1])\n",
    "#A2[['x3','y3']].plot(kind='scatter',x='x3',y='y3',linewidth=0,ax=ax[1,0])\n",
    "#A2[['x4','y4']].plot(kind='scatter',x='x4',y='y4',linewidth=0,ax=ax[1,1])"
   ]
  },
  {
   "cell_type": "markdown",
   "metadata": {},
   "source": [
    "# Designing a Visualization"
   ]
  },
  {
   "cell_type": "markdown",
   "metadata": {},
   "source": [
    "*Design is thinking made visual.* -- Paul Bass"
   ]
  },
  {
   "cell_type": "markdown",
   "metadata": {},
   "source": [
    "What does that quote even mean? How is thinking made visual? The principles of design are tools for communication. Below is an example of how to 'think visually' using data from Arbuthnot's birth rate dataset. For details on the data involved, run the code below."
   ]
  },
  {
   "cell_type": "code",
   "execution_count": 6,
   "metadata": {
    "collapsed": true
   },
   "outputs": [],
   "source": [
    "# Uncomment the code below to learn about the Arbuthnot data set.\n",
    "#pydataset('Arbuthnot',show_doc=True)"
   ]
  },
  {
   "cell_type": "markdown",
   "metadata": {},
   "source": [
    "Pretend that after exploring the dataset, you decide that a scatter plot represents the data best. You want to know if there are more males born than females. Start with a simple default scatter plot. Each point represents a year with the x axis as the number of males christened and the y axis as the number of females christened."
   ]
  },
  {
   "cell_type": "code",
   "execution_count": 7,
   "metadata": {
    "collapsed": false
   },
   "outputs": [],
   "source": [
    "#A1.plot(kind='scatter',x='Males',y='Females')"
   ]
  },
  {
   "cell_type": "markdown",
   "metadata": {},
   "source": [
    "We should expect birth rates to be about the same for each sex. The graph above looks pretty close, but the graph is a rectangular box. It's hard to compare birth rates so let's make the axes equal."
   ]
  },
  {
   "cell_type": "code",
   "execution_count": 8,
   "metadata": {
    "collapsed": false
   },
   "outputs": [],
   "source": [
    "#A1.plot(kind='scatter',x='Males',y='Females',figsize=(8,7))"
   ]
  },
  {
   "cell_type": "markdown",
   "metadata": {},
   "source": [
    "Wow! It's a lot easier to compare along equivalent axes. That makes sense. Now, you can see that fair comparison visually represented. What else can we do? Since we want to know if there are more males born than females, we could draw the line where there would be equal male to female christening. I'll call this the parity line because parity means equal."
   ]
  },
  {
   "cell_type": "code",
   "execution_count": 9,
   "metadata": {
    "collapsed": false
   },
   "outputs": [],
   "source": [
    "#A1['parity'] = np.linspace(2000,9000,82)\n",
    "#ax = A1.plot(kind='scatter',x='Males',y='Females',figsize=(8,7))\n",
    "#ax.plot(A1['parity'],A1['parity'])\n",
    "#plt.show()"
   ]
  },
  {
   "cell_type": "markdown",
   "metadata": {},
   "source": [
    "Well, now it looks obvious. There are clearly more males christened than females. Arbuthnot ran a statistical significance test to conclude that there were more males christened. We did the same thing, but visually. Now, we need to communicate this insight to others. This means we need to figure out what we want to bring attention to.\n",
    "\n",
    "I care about the data points first and the line second because the data actually communicates the insight. So I'll make the line grey so that it doesn't grab our attention first. I'll also extend the line to run from corner to corner to make the divide between male and female more explicit."
   ]
  },
  {
   "cell_type": "code",
   "execution_count": 10,
   "metadata": {
    "collapsed": false
   },
   "outputs": [],
   "source": [
    "#ax = A1.plot(kind='scatter',x='Males',y='Females',figsize=(8,7))\n",
    "#ax.plot(A1['parity'],A1['parity'],color='grey')\n",
    "#ax.set_xlim(2000,9000)\n",
    "#ax.set_ylim(2000,9000)\n",
    "#plt.show()"
   ]
  },
  {
   "cell_type": "markdown",
   "metadata": {},
   "source": [
    "The dots are a little dark. This is because there are lines drawn around the blue dots. I'm going to get rid of those lines to make the dots stand out more."
   ]
  },
  {
   "cell_type": "code",
   "execution_count": 11,
   "metadata": {
    "collapsed": false
   },
   "outputs": [],
   "source": [
    "#ax = A1.plot(kind='scatter',x='Males',y='Females',linewidth=0,figsize=(8,7))\n",
    "#ax.plot(A1['parity'],A1['parity'],color='grey')\n",
    "#ax.set_xlim(2000,9000)\n",
    "#ax.set_ylim(2000,9000)\n",
    "#plt.show()"
   ]
  },
  {
   "cell_type": "markdown",
   "metadata": {},
   "source": [
    "The dots are a little bit small and harder to see. I'll try making them bigger."
   ]
  },
  {
   "cell_type": "code",
   "execution_count": 12,
   "metadata": {
    "collapsed": false
   },
   "outputs": [],
   "source": [
    "#ax = A1.plot(kind='scatter',x='Males',y='Females',s=70,linewidth=0,figsize=(8,7))\n",
    "#ax.plot(A1['parity'],A1['parity'],color='grey')\n",
    "#ax.set_xlim(2000,9000)\n",
    "#ax.set_ylim(2000,9000)\n",
    "#plt.show()"
   ]
  },
  {
   "cell_type": "markdown",
   "metadata": {},
   "source": [
    "I think that looks better... but it looks messy now. The small dots gave me a lot of precision but the big dots let's me see how many male and female christenings there are for each dot. But if I make the dots transparent..."
   ]
  },
  {
   "cell_type": "code",
   "execution_count": 13,
   "metadata": {
    "collapsed": false
   },
   "outputs": [],
   "source": [
    "#ax = A1.plot(kind='scatter',x='Males',y='Females',s=70,alpha=.4,linewidth=0,figsize=(8,7))\n",
    "#ax.plot(A1['parity'],A1['parity'],color='grey')\n",
    "#ax.set_xlim(2000,9000)\n",
    "#ax.set_ylim(2000,9000)\n",
    "#plt.show()"
   ]
  },
  {
   "cell_type": "markdown",
   "metadata": {},
   "source": [
    "I don't lose any information. What's more, it's easier to see the density of the dots a little better. As a final touch, I'll change the dot color to red because we have more red color receptors in our eyes, and that helps draw more attention to the dots."
   ]
  },
  {
   "cell_type": "code",
   "execution_count": 14,
   "metadata": {
    "collapsed": false
   },
   "outputs": [],
   "source": [
    "#ax = A1.plot(kind='scatter',x='Males',y='Females',color='r',s=70,alpha=.4,linewidth=0,figsize=(8,7))\n",
    "#ax.plot(A1['parity'],A1['parity'],color='grey')\n",
    "#ax.set_xlim(2000,9000)\n",
    "#ax.set_ylim(2000,9000)\n",
    "#ax.legend(loc=0)\n",
    "#plt.show()"
   ]
  },
  {
   "cell_type": "markdown",
   "metadata": {},
   "source": [
    "Compare this graph with the one we started with. I can consume the information in the top graph almost instantaneously. The bottom graph isn't very sexy nor is it helpful for communicating insight. A statistical significance test is hardly necessary to conclude that there were more male christenings than female christenings when we use the first graph. In this case, I can replace a long explanation about statistical significance with a visualization. I am using my reasoning skills visually instead of mathematically. Both perspectives are valid approaches to analyzing data."
   ]
  },
  {
   "cell_type": "code",
   "execution_count": 15,
   "metadata": {
    "collapsed": false
   },
   "outputs": [
    {
     "data": {
      "text/plain": [
       "<matplotlib.axes._subplots.AxesSubplot at 0x7f000e01d850>"
      ]
     },
     "execution_count": 15,
     "metadata": {},
     "output_type": "execute_result"
    },
    {
     "data": {
      "image/png": "[encoded data removed]",
      "text/plain": [
       "<matplotlib.figure.Figure at 0x7f000dfb8950>"
      ]
     },
     "metadata": {},
     "output_type": "display_data"
    }
   ],
   "source": [
    "A1.plot(kind='scatter',x='Males',y='Females')"
   ]
  },
  {
   "cell_type": "code",
   "execution_count": null,
   "metadata": {
    "collapsed": true
   },
   "outputs": [],
   "source": []
  }
 ],
 "metadata": {
  "kernelspec": {
   "display_name": "Python 2",
   "language": "python",
   "name": "python2"
  },
  "language_info": {
   "codemirror_mode": {
    "name": "ipython",
    "version": 2
   },
   "file_extension": ".py",
   "mimetype": "text/x-python",
   "name": "python",
   "nbconvert_exporter": "python",
   "pygments_lexer": "ipython2",
   "version": "2.7.11"
  }
 },
 "nbformat": 4,
 "nbformat_minor": 0
}
