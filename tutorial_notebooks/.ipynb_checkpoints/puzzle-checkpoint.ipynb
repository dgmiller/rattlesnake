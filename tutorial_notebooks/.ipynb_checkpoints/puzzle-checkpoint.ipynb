{
 "cells": [
  {
   "cell_type": "markdown",
   "metadata": {},
   "source": [
    "# Flyin' High"
   ]
  },
  {
   "cell_type": "markdown",
   "metadata": {},
   "source": [
    "Find the probability that your seat is empty on a plane with n seats and n passengers, the first passenger ignoring his given seat number and sitting in a random seat."
   ]
  },
  {
   "cell_type": "markdown",
   "metadata": {},
   "source": [
    "Methodology:\n",
    "- a passenger is just a seat number\n",
    "- randomize a queue of passengers (seat numbers)\n",
    "- create an array of n airplane seats\n",
    "- the passenger takes a seat by setting that seat number equal to zero\n",
    "- choose a random integer from the interval [1, n]\n",
    "- assign the first passenger (seat number) to that spot\n",
    "- t = the number of not taken seats (nonzero entries on the plane)\n",
    "- the probability is t/n\n",
    "- iterate through the queue of passengers\n",
    "    - if the seat number is set to zero (it's taken), move to a random nonzero seat\n",
    "    - otherwise take a seat and set it to zero\n",
    "- run 10,000 trials and average the result to see the average probability"
   ]
  },
  {
   "cell_type": "code",
   "execution_count": 103,
   "metadata": {
    "collapsed": false
   },
   "outputs": [],
   "source": [
    "# import statements\n",
    "import numpy as np"
   ]
  },
  {
   "cell_type": "code",
   "execution_count": 96,
   "metadata": {
    "collapsed": true
   },
   "outputs": [],
   "source": [
    "def probability(n=100):\n",
    "    \"\"\"\n",
    "    Function that returns the probability that your seat is empty\n",
    "    \n",
    "    Input: n (int), defaults to 100\n",
    "    returns: prob (float), the probability that your seat is empty\n",
    "    \"\"\"\n",
    "    # initialize the random queue of passengers implemented as a numpy array\n",
    "    passengers = np.random.permutation(np.arange(1,n)) # 1-99 since we are passenger 100\n",
    "    # initialize the airplane seats\n",
    "    seats = np.arange(1,n) # 1-99\n",
    "    first_seat = np.random.randint(1,n,1) # 1-99\n",
    "    seats[first_seat-1] = 0 # this indicates that the first passenger took a random seat\n",
    "    for p in passengers:\n",
    "        if p == passengers[0]:\n",
    "            # this is the first passenger; don't do nothin'\n",
    "            pass\n",
    "        elif seats[p-1] == 0: # the passenger p's seat is taken\n",
    "            i = np.random.randint(0,np.count_nonzero(seats)) # choose a random seat (by index)\n",
    "            print i\n",
    "            available_seats = seats.ravel()[np.flatnonzero(seats)] # from this list\n",
    "            print available_seats\n",
    "            print len(available_seats)\n",
    "            print np.count_nonzero(seats)\n",
    "            new_seat = available_seats[i]\n",
    "            seats[new_seat] = 0 # this seat is taken\n",
    "        else:\n",
    "            if seats[p-1] == p:\n",
    "                # this checks to make sure the ticket is correct and passenger takes their seat\n",
    "                seats[p-1] = 0\n",
    "            else:\n",
    "                # if something is wrong, raise an error\n",
    "                print(p)\n",
    "                raise ValueError(\"seat number empty but not correct\")\n",
    "    # prob = number of empty seats / number of total seats\n",
    "    prob = float(len(np.nonzero(seats))) / n\n",
    "    return prob"
   ]
  },
  {
   "cell_type": "code",
   "execution_count": 97,
   "metadata": {
    "collapsed": true
   },
   "outputs": [],
   "source": [
    "def experiment(n=100, trials=1000):\n",
    "    \"\"\"returns an average probability from a given number of trials and number of seats\"\"\"\n",
    "    P = []\n",
    "    for x in xrange(trials):\n",
    "        P.append(probability(n))\n",
    "    return sum(P)/trials"
   ]
  },
  {
   "cell_type": "code",
   "execution_count": 102,
   "metadata": {
    "collapsed": false
   },
   "outputs": [
    {
     "name": "stdout",
     "output_type": "stream",
     "text": [
      "0\n",
      "[ 2  3 14]\n",
      "3\n",
      "3\n",
      "0\n",
      "[2]\n",
      "1\n",
      "1\n",
      "4\n",
      "[ 1  2  4  5  6  8 10 11 12 13 14]\n",
      "11\n",
      "11\n",
      "0\n",
      "[ 6 13]\n",
      "2\n",
      "2\n",
      "0.0666666666667\n"
     ]
    }
   ],
   "source": [
    "# run the experiment!\n",
    "print(experiment(n=15, trials=3))"
   ]
  },
  {
   "cell_type": "markdown",
   "metadata": {},
   "source": [
    "**But not all airplanes are full...**"
   ]
  },
  {
   "cell_type": "markdown",
   "metadata": {},
   "source": [
    "What if some passengers didn't make the flight? The Boeing 747-400 passenger aircraft has a passenger capacity of 416 (according to Wikipedia). Let's say that 85% of people make their flights on this kind of aircraft. Now let's look at the probability that the last seat is empty."
   ]
  },
  {
   "cell_type": "code",
   "execution_count": null,
   "metadata": {
    "collapsed": true
   },
   "outputs": [],
   "source": []
  }
 ],
 "metadata": {
  "kernelspec": {
   "display_name": "Python 2",
   "language": "python",
   "name": "python2"
  },
  "language_info": {
   "codemirror_mode": {
    "name": "ipython",
    "version": 2
   },
   "file_extension": ".py",
   "mimetype": "text/x-python",
   "name": "python",
   "nbconvert_exporter": "python",
   "pygments_lexer": "ipython2",
   "version": "2.7.11"
  }
 },
 "nbformat": 4,
 "nbformat_minor": 0
}
