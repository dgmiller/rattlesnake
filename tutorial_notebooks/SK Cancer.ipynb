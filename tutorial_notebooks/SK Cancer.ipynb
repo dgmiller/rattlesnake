{
 "cells": [
  {
   "cell_type": "code",
   "execution_count": 1,
   "metadata": {
    "collapsed": true
   },
   "outputs": [],
   "source": [
    "# import statements\n",
    "import pandas as pd\n",
    "import numpy as np\n",
    "import scipy as sp\n",
    "from matplotlib import pyplot as plt\n",
    "from matplotlib import style\n",
    "import sklearn\n",
    "%matplotlib inline\n",
    "style.use('ggplot')"
   ]
  },
  {
   "cell_type": "code",
   "execution_count": 6,
   "metadata": {
    "collapsed": false
   },
   "outputs": [
    {
     "data": {
      "text/html": [
       "<div>\n",
       "<table border=\"1\" class=\"dataframe\">\n",
       "  <thead>\n",
       "    <tr style=\"text-align: right;\">\n",
       "      <th></th>\n",
       "      <th>Unnamed: 0</th>\n",
       "      <th>Date</th>\n",
       "      <th>Component</th>\n",
       "      <th>Result</th>\n",
       "      <th>Low</th>\n",
       "      <th>High</th>\n",
       "    </tr>\n",
       "  </thead>\n",
       "  <tbody>\n",
       "    <tr>\n",
       "      <th>0</th>\n",
       "      <td>0</td>\n",
       "      <td>9/17/2014</td>\n",
       "      <td>Weight</td>\n",
       "      <td>104.4</td>\n",
       "      <td>NaN</td>\n",
       "      <td>NaN</td>\n",
       "    </tr>\n",
       "    <tr>\n",
       "      <th>1</th>\n",
       "      <td>1</td>\n",
       "      <td>9/26/2014</td>\n",
       "      <td>Weight</td>\n",
       "      <td>104.8</td>\n",
       "      <td>104.4</td>\n",
       "      <td>104.4</td>\n",
       "    </tr>\n",
       "    <tr>\n",
       "      <th>2</th>\n",
       "      <td>2</td>\n",
       "      <td>11/12/2014</td>\n",
       "      <td>Weight</td>\n",
       "      <td>94.4</td>\n",
       "      <td>104.8</td>\n",
       "      <td>104.8</td>\n",
       "    </tr>\n",
       "    <tr>\n",
       "      <th>3</th>\n",
       "      <td>3</td>\n",
       "      <td>1/9/2015</td>\n",
       "      <td>Weight</td>\n",
       "      <td>89.6</td>\n",
       "      <td>94.4</td>\n",
       "      <td>94.4</td>\n",
       "    </tr>\n",
       "    <tr>\n",
       "      <th>4</th>\n",
       "      <td>4</td>\n",
       "      <td>1/20/2015</td>\n",
       "      <td>Weight</td>\n",
       "      <td>90.6</td>\n",
       "      <td>89.6</td>\n",
       "      <td>89.6</td>\n",
       "    </tr>\n",
       "  </tbody>\n",
       "</table>\n",
       "</div>"
      ],
      "text/plain": [
       "   Unnamed: 0        Date Component  Result    Low   High\n",
       "0           0   9/17/2014    Weight   104.4    NaN    NaN\n",
       "1           1   9/26/2014    Weight   104.8  104.4  104.4\n",
       "2           2  11/12/2014    Weight    94.4  104.8  104.8\n",
       "3           3    1/9/2015    Weight    89.6   94.4   94.4\n",
       "4           4   1/20/2015    Weight    90.6   89.6   89.6"
      ]
     },
     "execution_count": 6,
     "metadata": {},
     "output_type": "execute_result"
    }
   ],
   "source": [
    "#read in csv\n",
    "dataframe = pd.read_csv('Data/skclean.csv')\n",
    "dataframe.head()\n",
    "#dataframe.drop([''''''Result','Result measure','Normal Range','Status','Data type'], axis=1, inplace=True)\n",
    "# remove: Unnamed, Result, Result measure, Normal Range\n",
    "# change: Status from LL,L,N,H to -2,-1,0,1\n"
   ]
  },
  {
   "cell_type": "code",
   "execution_count": null,
   "metadata": {
    "collapsed": false
   },
   "outputs": [],
   "source": [
    "cancerDF = pd.read_csv('Data/skclean.csv', index_col=0)\n",
    "cancerDF"
   ]
  },
  {
   "cell_type": "code",
   "execution_count": null,
   "metadata": {
    "collapsed": false
   },
   "outputs": [],
   "source": [
    "ax = otherDF.plot(figsize=(24,6), kind='scatter', x='i', y='Low', color='Black')\n",
    "otherDF.plot(kind='scatter', x='i', y='High', color='Black', ax=ax)\n",
    "otherDF.plot(kind='scatter', x='i', y='Result', color='Red', ax=ax)"
   ]
  },
  {
   "cell_type": "code",
   "execution_count": null,
   "metadata": {
    "collapsed": true
   },
   "outputs": [],
   "source": []
  },
  {
   "cell_type": "code",
   "execution_count": null,
   "metadata": {
    "collapsed": true
   },
   "outputs": [],
   "source": []
  }
 ],
 "metadata": {
  "kernelspec": {
   "display_name": "Python [Root]",
   "language": "python",
   "name": "Python [Root]"
  },
  "language_info": {
   "codemirror_mode": {
    "name": "ipython",
    "version": 2
   },
   "file_extension": ".py",
   "mimetype": "text/x-python",
   "name": "python",
   "nbconvert_exporter": "python",
   "pygments_lexer": "ipython2",
   "version": "2.7.12"
  }
 },
 "nbformat": 4,
 "nbformat_minor": 0
}
