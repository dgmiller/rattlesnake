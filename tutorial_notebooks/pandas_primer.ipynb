{
 "cells": [
  {
   "cell_type": "markdown",
   "metadata": {},
   "source": [
    "# pandas primer"
   ]
  },
  {
   "cell_type": "code",
   "execution_count": 13,
   "metadata": {
    "collapsed": true
   },
   "outputs": [],
   "source": [
    "import pandas as pd\n",
    "import numpy as np\n",
    "from matplotlib import pyplot as plt\n",
    "from matplotlib import style\n",
    "style.use('ggplot')\n",
    "import sklearn"
   ]
  },
  {
   "cell_type": "code",
   "execution_count": 5,
   "metadata": {
    "collapsed": false
   },
   "outputs": [
    {
     "name": "stdout",
     "output_type": "stream",
     "text": [
      "   Bounce_Rate  Day  Visitors\n",
      "0           65    1        43\n",
      "1           72    2        53\n",
      "2           62    3        34\n",
      "3           64    4        45\n",
      "4           54    5        64\n",
      "5           66    6        34\n"
     ]
    }
   ],
   "source": [
    "web_stats = {'Day':[1,2,3,4,5,6],\n",
    "             'Visitors':[43,53,34,45,64,34],\n",
    "             'Bounce_Rate':[65,72,62,64,54,66]}\n",
    "# standard to call 'df'\n",
    "df = pd.DataFrame(web_stats)\n",
    "print(df)"
   ]
  },
  {
   "cell_type": "code",
   "execution_count": 6,
   "metadata": {
    "collapsed": false
   },
   "outputs": [
    {
     "name": "stdout",
     "output_type": "stream",
     "text": [
      "   Bounce_Rate  Day  Visitors\n",
      "0           65    1        43\n",
      "1           72    2        53\n",
      "2           62    3        34\n",
      "3           64    4        45\n",
      "4           54    5        64\n"
     ]
    }
   ],
   "source": [
    "print(df.head()) # or tail(n) where n specifies how many rows to show"
   ]
  },
  {
   "cell_type": "code",
   "execution_count": 8,
   "metadata": {
    "collapsed": false
   },
   "outputs": [
    {
     "name": "stdout",
     "output_type": "stream",
     "text": [
      "   Bounce_Rate  Day  Visitors\n",
      "0           65    1        43\n",
      "1           72    2        53\n",
      "2           62    3        34\n",
      "3           64    4        45\n",
      "4           54    5        64\n",
      "5           66    6        34\n",
      "     Bounce_Rate  Visitors\n",
      "Day                       \n",
      "1             65        43\n",
      "2             72        53\n",
      "3             62        34\n",
      "4             64        45\n",
      "5             54        64\n",
      "6             66        34\n"
     ]
    }
   ],
   "source": [
    "# setting an index\n",
    "new_df = df.set_index('Day') # returns a new dataframe\n",
    "# set inplace with set_index('Day', inplace=True)\n",
    "print(df)\n",
    "print(new_df)"
   ]
  },
  {
   "cell_type": "code",
   "execution_count": 14,
   "metadata": {
    "collapsed": false
   },
   "outputs": [
    {
     "name": "stdout",
     "output_type": "stream",
     "text": [
      "0    43\n",
      "1    53\n",
      "2    34\n",
      "3    45\n",
      "4    64\n",
      "5    34\n",
      "Name: Visitors, dtype: int64\n",
      "   Bounce_Rate  Visitors\n",
      "0           65        43\n",
      "1           72        53\n",
      "2           62        34\n",
      "3           64        45\n",
      "4           54        64\n",
      "5           66        34\n",
      "[43, 53, 34, 45, 64, 34]\n",
      "[43 53 34 45 64 34]\n",
      "[[65 43]\n",
      " [72 53]\n",
      " [62 34]\n",
      " [64 45]\n",
      " [54 64]\n",
      " [66 34]]\n"
     ]
    }
   ],
   "source": [
    "# referrence a column\n",
    "print(df['Visitors']) # also print(df.Visitors)\n",
    "# for multiple columns\n",
    "print(df[['Bounce_Rate', 'Visitors']])\n",
    "# converting to a list\n",
    "print(df.Visitors.tolist())\n",
    "# or to numpy array\n",
    "print(np.array(df.Visitors.tolist()))\n",
    "print(np.array(df[['Bounce_Rate', 'Visitors']]))"
   ]
  },
  {
   "cell_type": "code",
   "execution_count": 15,
   "metadata": {
    "collapsed": false
   },
   "outputs": [
    {
     "name": "stdout",
     "output_type": "stream",
     "text": [
      "    0   1\n",
      "0  65  43\n",
      "1  72  53\n",
      "2  62  34\n",
      "3  64  45\n",
      "4  54  64\n",
      "5  66  34\n"
     ]
    }
   ],
   "source": [
    "# convert numpy array to a dataframe\n",
    "df2 = pd.DataFrame(np.array(df[['Bounce_Rate', 'Visitors']]))\n",
    "print df2"
   ]
  },
  {
   "cell_type": "markdown",
   "metadata": {},
   "source": [
    "**Pandas IO:** csv, txt, excel, json, html, etc. Data from Quandl.com"
   ]
  },
  {
   "cell_type": "code",
   "execution_count": 16,
   "metadata": {
    "collapsed": false
   },
   "outputs": [
    {
     "name": "stdout",
     "output_type": "stream",
     "text": [
      "         Date   Value\n",
      "0  2015-12-31  587450\n",
      "1  2015-10-31  589000\n",
      "2  2015-02-28  620000\n",
      "3  2015-01-31  620000\n",
      "4  2014-12-31  629000\n"
     ]
    }
   ],
   "source": [
    "# read in a csv\n",
    "house_prices = pd.read_csv('../ZILL-Z77006_MLP.csv')\n",
    "print(house_prices.head())\n",
    "house_prices.set_index('Date', inplace=True)\n",
    "# export to a csv file\n",
    "house_prices.to_csv('newcsv2.csv')\n",
    "# to export data only, use kwarg header=False"
   ]
  },
  {
   "cell_type": "code",
   "execution_count": 18,
   "metadata": {
    "collapsed": false
   },
   "outputs": [
    {
     "name": "stdout",
     "output_type": "stream",
     "text": [
      "            Austin_HPI\n",
      "Date                  \n",
      "2015-12-31      587450\n",
      "2015-10-31      589000\n",
      "2015-02-28      620000\n",
      "2015-01-31      620000\n",
      "2014-12-31      629000\n"
     ]
    }
   ],
   "source": [
    "# set index from import\n",
    "house_prices = pd.read_csv('newcsv2.csv', index_col=0)\n",
    "# to name multiple headers, use kwarg names=['x','y'] and index_col\n",
    "\n",
    "# set columns\n",
    "house_prices.columns = ['Austin_HPI']\n",
    "print(house_prices.head())\n",
    "# also house_prices.rename(columns={old:new}) renames the specified cols"
   ]
  },
  {
   "cell_type": "code",
   "execution_count": null,
   "metadata": {
    "collapsed": true
   },
   "outputs": [],
   "source": []
  }
 ],
 "metadata": {
  "kernelspec": {
   "display_name": "Python [Root]",
   "language": "python",
   "name": "Python [Root]"
  },
  "language_info": {
   "codemirror_mode": {
    "name": "ipython",
    "version": 2
   },
   "file_extension": ".py",
   "mimetype": "text/x-python",
   "name": "python",
   "nbconvert_exporter": "python",
   "pygments_lexer": "ipython2",
   "version": "2.7.12"
  }
 },
 "nbformat": 4,
 "nbformat_minor": 0
}
