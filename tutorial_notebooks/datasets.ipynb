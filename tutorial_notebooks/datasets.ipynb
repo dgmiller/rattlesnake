{
 "cells": [
  {
   "cell_type": "code",
   "execution_count": 1,
   "metadata": {
    "collapsed": true
   },
   "outputs": [],
   "source": [
    "import numpy as np\n",
    "import pandas as pd\n",
    "from matplotlib import pyplot as plt\n",
    "import pydataset\n",
    "%matplotlib inline"
   ]
  },
  {
   "cell_type": "code",
   "execution_count": 2,
   "metadata": {
    "collapsed": false
   },
   "outputs": [],
   "source": [
    "# data searched up to 210\n",
    "#pydataset.data()[200:210]"
   ]
  },
  {
   "cell_type": "code",
   "execution_count": 3,
   "metadata": {
    "collapsed": true
   },
   "outputs": [],
   "source": [
    "dataset = ['HairEyeColor','Nile','UCBAdmissions',\n",
    "           'Titanic','USArrests','USPersonalExpenditure',\n",
    "           'airquality','occupationalStatus','sleep',\n",
    "          'cushny','InstEval','sleepstudy',\n",
    "          'delivery','radarImage','Highway1']"
   ]
  },
  {
   "cell_type": "code",
   "execution_count": 4,
   "metadata": {
    "collapsed": false
   },
   "outputs": [
    {
     "data": {
      "text/html": [
       "<div>\n",
       "<table border=\"1\" class=\"dataframe\">\n",
       "  <thead>\n",
       "    <tr style=\"text-align: right;\">\n",
       "      <th></th>\n",
       "      <th>Hair</th>\n",
       "      <th>Eye</th>\n",
       "      <th>Sex</th>\n",
       "      <th>Freq</th>\n",
       "    </tr>\n",
       "  </thead>\n",
       "  <tbody>\n",
       "    <tr>\n",
       "      <th>1</th>\n",
       "      <td>Black</td>\n",
       "      <td>Brown</td>\n",
       "      <td>Male</td>\n",
       "      <td>32</td>\n",
       "    </tr>\n",
       "    <tr>\n",
       "      <th>2</th>\n",
       "      <td>Brown</td>\n",
       "      <td>Brown</td>\n",
       "      <td>Male</td>\n",
       "      <td>53</td>\n",
       "    </tr>\n",
       "    <tr>\n",
       "      <th>3</th>\n",
       "      <td>Red</td>\n",
       "      <td>Brown</td>\n",
       "      <td>Male</td>\n",
       "      <td>10</td>\n",
       "    </tr>\n",
       "    <tr>\n",
       "      <th>4</th>\n",
       "      <td>Blond</td>\n",
       "      <td>Brown</td>\n",
       "      <td>Male</td>\n",
       "      <td>3</td>\n",
       "    </tr>\n",
       "    <tr>\n",
       "      <th>5</th>\n",
       "      <td>Black</td>\n",
       "      <td>Blue</td>\n",
       "      <td>Male</td>\n",
       "      <td>11</td>\n",
       "    </tr>\n",
       "  </tbody>\n",
       "</table>\n",
       "</div>"
      ],
      "text/plain": [
       "    Hair    Eye   Sex  Freq\n",
       "1  Black  Brown  Male    32\n",
       "2  Brown  Brown  Male    53\n",
       "3    Red  Brown  Male    10\n",
       "4  Blond  Brown  Male     3\n",
       "5  Black   Blue  Male    11"
      ]
     },
     "execution_count": 4,
     "metadata": {},
     "output_type": "execute_result"
    }
   ],
   "source": [
    "df0 = pydataset.data(dataset[0])\n",
    "df0.head()"
   ]
  },
  {
   "cell_type": "code",
   "execution_count": 5,
   "metadata": {
    "collapsed": false
   },
   "outputs": [],
   "source": [
    "trumpfile = open('/run/media/derekgm@byu.local/FAMHIST/Data/final_project/trump.txt','r').readlines()\n",
    "#trumpfile = open('/home/derek/Desktop/trump.txt','r').readlines()"
   ]
  },
  {
   "cell_type": "code",
   "execution_count": 6,
   "metadata": {
    "collapsed": false
   },
   "outputs": [
    {
     "name": "stdout",
     "output_type": "stream",
     "text": [
      "2666820 2666820\n"
     ]
    }
   ],
   "source": [
    "# bad columns: 6989, 6991, 16631, 16632\n",
    "trump_stats = []\n",
    "trump_words = []\n",
    "for line in trumpfile:\n",
    "    line = line.split('\\t')\n",
    "    trump_stats.append(line[:-1])\n",
    "    trump_words.append(line[-1])\n",
    "print len(trump_stats),len(trump_words)"
   ]
  },
  {
   "cell_type": "code",
   "execution_count": 7,
   "metadata": {
    "collapsed": false
   },
   "outputs": [
    {
     "data": {
      "text/plain": [
       "2666820"
      ]
     },
     "execution_count": 7,
     "metadata": {},
     "output_type": "execute_result"
    }
   ],
   "source": [
    "len(trumpfile)"
   ]
  },
  {
   "cell_type": "markdown",
   "metadata": {},
   "source": [
    "trump_stats has the following variables:\n",
    "timestamp, number of user followers, number of user statuses, number of user friends"
   ]
  },
  {
   "cell_type": "code",
   "execution_count": 24,
   "metadata": {
    "collapsed": false
   },
   "outputs": [
    {
     "data": {
      "text/plain": [
       "[['1476885613849', '684', '4048', '1221'],\n",
       " ['1476885614680', '90', '772', '107'],\n",
       " ['1476885614523', '242', '11124', '273'],\n",
       " ['1476885614734', '10', '271', '10'],\n",
       " ['1476885614711', '1730', '27397', '2370']]"
      ]
     },
     "execution_count": 24,
     "metadata": {},
     "output_type": "execute_result"
    }
   ],
   "source": [
    "trump_stats[:5]"
   ]
  },
  {
   "cell_type": "code",
   "execution_count": 9,
   "metadata": {
    "collapsed": false
   },
   "outputs": [],
   "source": [
    "import datetime\n",
    "import time"
   ]
  },
  {
   "cell_type": "code",
   "execution_count": 10,
   "metadata": {
    "collapsed": false
   },
   "outputs": [
    {
     "name": "stdout",
     "output_type": "stream",
     "text": [
      "1478681191.0\n",
      "1479146514.39\n"
     ]
    }
   ],
   "source": [
    "trumptime = float(trump_stats[-1][0][0:10])\n",
    "print trumptime\n",
    "print time.time()"
   ]
  },
  {
   "cell_type": "code",
   "execution_count": 11,
   "metadata": {
    "collapsed": true
   },
   "outputs": [],
   "source": [
    "d1 = datetime.datetime.fromtimestamp(time.time())\n",
    "d2 = datetime.datetime.fromtimestamp(trumptime)"
   ]
  },
  {
   "cell_type": "code",
   "execution_count": 12,
   "metadata": {
    "collapsed": false
   },
   "outputs": [
    {
     "name": "stdout",
     "output_type": "stream",
     "text": [
      "2016-11-14 11:01:55.182588\n",
      "2016-11-09 01:46:31\n"
     ]
    }
   ],
   "source": [
    "print d1.date(),d1.time()\n",
    "print d2.date(),d2.time()"
   ]
  },
  {
   "cell_type": "code",
   "execution_count": 13,
   "metadata": {
    "collapsed": false
   },
   "outputs": [
    {
     "data": {
      "text/plain": [
       "['\"\"\"I liked a @YouTube video from @thefader https://t.co/B3r6N8lUep What Would You Say To Donald Trump?\"\"\"\\n',\n",
       " '\"\"\"Trump Calls US Elections Rigged, Blockchain Could Make Them Honest https://t.co/vWaDcdhgOL\"\"\"\\n',\n",
       " '\"\"\"Because most men are good guys and realize and disagree with Trump\\'s view and treatment of women...their Moms, Aunts and Sisters #NeverTrump\"\"\"\\n',\n",
       " '\"\"\"@hmrstrm45 @mitchellvii @nypost I\\'m smart enough to know Trump loses, bigly\"\"\"\\n',\n",
       " '\"\"\"RT @kurteichenwald: After decades of wrecking everything he touches, Trump is now completing his most astonishing demolition: the GOP. http\"\"\"\\n',\n",
       " '\"\"\"RT @ChuckNellis: Rick Wilson: Trump Oppo Coming That Could End The Race, Make Even Ardent Trumpers Go Whoa https://t.co/5N2rj5vJzN via\"\"\"\\n',\n",
       " '\"\"\"Glad you were clear on the war criminal bit. https://t.co/Bykt37NS6Q\"\"\"\\n',\n",
       " '\"\"\"RT @RawStory: TV censors freak out when Stephen Colbert draws this Venn diagram explaining Trump conspiracies \"\"\"\\n',\n",
       " '\"\"\"@hastasiempre_ch ia meter uma do trump, mas a ficavas chateada\"\"\"\\n',\n",
       " '\"\"\"Hillary will try to take a knee tonight and Trump will try to give her one.\"\"\"\\n',\n",
       " '\"\"\"RT @mattyglesias: I would like to see Chris Wallace ask Trump if he can describe the main elements of his tax plan.\"\"\"\\n',\n",
       " '\"\"\"CNN: Barkley: Criticism of Trump has been \\'disingenuous\\' https://t.co/tIdED1fMKY\"\"\"\\n',\n",
       " '\"\"\"RT @CNN: 33% of pro-Trump tweets are generated by bots and automated accounts, compared to 22% for Clinton, researchers find \"\"\"\\n',\n",
       " '\"\"\"RT @Cernovich: Internals show Trump at 264 on lock. That\\'s why media freaked the fuck out and keeps going full blast 24/7. It\\'s go \"\"\"\\n',\n",
       " '\"\"\"RT @SavageNation: VIRAL VIDEO=&gt; Obama-Hillary-Bernie-Warren Say System Is #Rigged  Until Trump Says Its Rigged #DraintheSwamp... https://\"\"\"\\n',\n",
       " '\"\"\"RT @dorbar: Hillary\\'s Special Guest at Final Debate an Illegal, While Trump Invites Mother of Son Killed By an Illegal https://t.co/P7roPAt\"\"\"\\n',\n",
       " '\"\"\"Debate gives Trump his last big chance to make a mark before Nov. 8 #TeamHillary #vs #TeamDonald https://t.co/WCeGaefDWe\"\"\"\\n',\n",
       " '\"\"\"RT @JamillaTweets: A billboard in Arabic has been put up in Michigan which says \"Donald Trump can\\'t read this but it still scares him\" http\"\"\"\\n',\n",
       " '\"\"\"    The Daily Show - Donald Trump\\'s \"Rigged Election\" Talk https://t.co/ES7LZ2en7x via @YouTube\"\"\"\\n',\n",
       " '\"\"\"Join me on the official Donald Trump for President app: https://t.co/xzG39vR9k0 and give me credit by entering my invitation code: AEL43\"\"\"\\n',\n",
       " '\"\"\"RT @MissLizzyNJ: #PodestaEmails12: Confirmed - Hillary should be drug tested before the debate. Trump was right again. \"\"\"\\n',\n",
       " '\"\"\"RT @MissLizzyNJ: #PodestaEmails12: Confirmed - Hillary should be drug tested before the debate. Trump was right again. \"\"\"\\n',\n",
       " '\"\"\"@rowdyroybal they don\\'t dummy. That\\'s just stupid Trump talk. He\\'s losing &amp; needs an excuse.\"\"\"\\n',\n",
       " '\"\"\"RT @DRUDGE_REPORT: Operative Who Oversaw Trump Rally Agitators Visited White House 342 Times... https://t.co/yuJo5HKRsX\"\"\"\\n',\n",
       " '\"\"\"RT @DailyMail: Democratic strategist resigns after video surfaces of his staff planning to incite violence at Trump rallies https://t.co/GH\"\"\"\\n']"
      ]
     },
     "execution_count": 13,
     "metadata": {},
     "output_type": "execute_result"
    }
   ],
   "source": [
    "trump_words[:25]"
   ]
  },
  {
   "cell_type": "markdown",
   "metadata": {
    "collapsed": true
   },
   "source": [
    "To Do: Clean the dataset\n",
    "\n",
    "Some ideas\n",
    "\n",
    "+ remove web links from text; store as binary variable\n",
    "+ get rid of symbols\n",
    "+ remove RT; store as binary variable\n",
    "+ remove mentions; store as a list variable\n",
    "+ remove hashtags; store as a list variable\n",
    "\n"
   ]
  },
  {
   "cell_type": "markdown",
   "metadata": {},
   "source": [
    "As an initial analysis, perform bayesian bag of words on Trump and Clinton datasets to see which words are most predictive for different time periods."
   ]
  },
  {
   "cell_type": "code",
   "execution_count": 28,
   "metadata": {
    "collapsed": false
   },
   "outputs": [
    {
     "name": "stdout",
     "output_type": "stream",
     "text": [
      "1\n"
     ]
    }
   ],
   "source": [
    "trumptime_list = []\n",
    "trumpuser = []\n",
    "err = []\n",
    "for i,t in enumerate(trump_stats):\n",
    "    try:\n",
    "        trumptime_list.append(float(t[0][:10]))\n",
    "        trumpuser.append([float(t[1]),float(t[2]),float(t[3])])\n",
    "    except:\n",
    "        err.append([i,t])\n",
    "print len(err)\n",
    "\n",
    "#trumptime = float(trump_stats[-1][0][0:10])"
   ]
  },
  {
   "cell_type": "code",
   "execution_count": 29,
   "metadata": {
    "collapsed": false
   },
   "outputs": [
    {
     "name": "stdout",
     "output_type": "stream",
     "text": [
      "2666819 2666819\n"
     ]
    }
   ],
   "source": [
    "print len(trumptime_list),len(trumpuser)\n",
    "trumptime_list = np.array(trumptime_list)\n",
    "trumpuser = np.array(trumpuser)"
   ]
  },
  {
   "cell_type": "code",
   "execution_count": 43,
   "metadata": {
    "collapsed": false
   },
   "outputs": [
    {
     "name": "stdout",
     "output_type": "stream",
     "text": [
      "[ 684.   90.  242. ...,  187.   71.  537.]\n",
      "2666819\n"
     ]
    }
   ],
   "source": [
    "print trumpuser[:,0]\n",
    "print len(trumpuser[:,0]==0)"
   ]
  },
  {
   "cell_type": "code",
   "execution_count": 67,
   "metadata": {
    "collapsed": false
   },
   "outputs": [
    {
     "data": {
      "image/png": "[encoded data removed]",
      "text/plain": [
       "<matplotlib.figure.Figure at 0x7fe93ea66a90>"
      ]
     },
     "metadata": {},
     "output_type": "display_data"
    }
   ],
   "source": [
    "plt.hist(trumpuser[:,0],bins=25,linewidth=0)\n",
    "plt.yscale('log')\n",
    "plt.title(\"number of user followers (log scale)\")\n",
    "plt.show()"
   ]
  },
  {
   "cell_type": "code",
   "execution_count": 64,
   "metadata": {
    "collapsed": false
   },
   "outputs": [
    {
     "data": {
      "image/png": "[encoded data removed]",
      "text/plain": [
       "<matplotlib.figure.Figure at 0x7fe93fc3a190>"
      ]
     },
     "metadata": {},
     "output_type": "display_data"
    }
   ],
   "source": [
    "plt.hist(trumpuser[:,1],bins=25,linewidth=0)\n",
    "plt.yscale('log')\n",
    "plt.title(\"number of user status posts (log scale)\")\n",
    "plt.show()"
   ]
  },
  {
   "cell_type": "code",
   "execution_count": 65,
   "metadata": {
    "collapsed": false
   },
   "outputs": [
    {
     "data": {
      "image/png": "[encoded data removed]",
      "text/plain": [
       "<matplotlib.figure.Figure at 0x7fe93f7a0e90>"
      ]
     },
     "metadata": {},
     "output_type": "display_data"
    }
   ],
   "source": [
    "plt.hist(trumpuser[:,2],bins=25,linewidth=0)\n",
    "plt.yscale('log')\n",
    "plt.title(\"number of user friends (log scale)\")\n",
    "plt.show()"
   ]
  },
  {
   "cell_type": "code",
   "execution_count": 76,
   "metadata": {
    "collapsed": false
   },
   "outputs": [
    {
     "data": {
      "image/png": "[encoded data removed]",
      "text/plain": [
       "<matplotlib.figure.Figure at 0x7fe93b62f190>"
      ]
     },
     "metadata": {},
     "output_type": "display_data"
    }
   ],
   "source": [
    "plt.scatter(x=trumpuser[:5000,0],y=trumpuser[:5000,2],color='r',alpha=.5,linewidth=0)\n",
    "plt.xlabel('followers')\n",
    "plt.ylabel('friends')\n",
    "#plt.xscale('log')\n",
    "#plt.yscale('log')\n",
    "plt.show()"
   ]
  },
  {
   "cell_type": "code",
   "execution_count": 78,
   "metadata": {
    "collapsed": false
   },
   "outputs": [
    {
     "data": {
      "image/png": "[encoded data removed]",
      "text/plain": [
       "<matplotlib.figure.Figure at 0x7fe93b9f30d0>"
      ]
     },
     "metadata": {},
     "output_type": "display_data"
    }
   ],
   "source": [
    "plt.scatter(x=trumpuser[:5000,2],y=trumpuser[:5000,1],color='r',alpha=.5,linewidth=0)\n",
    "plt.xlabel('friends')\n",
    "plt.ylabel('status posts')\n",
    "#plt.xscale('log')\n",
    "#plt.yscale('log')\n",
    "plt.show()"
   ]
  },
  {
   "cell_type": "code",
   "execution_count": 79,
   "metadata": {
    "collapsed": false
   },
   "outputs": [
    {
     "data": {
      "image/png": "[encoded data removed]",
      "text/plain": [
       "<matplotlib.figure.Figure at 0x7fe93ba5e5d0>"
      ]
     },
     "metadata": {},
     "output_type": "display_data"
    }
   ],
   "source": [
    "plt.scatter(x=trumpuser[:5000,0],y=trumpuser[:5000,1],color='r',alpha=.5,linewidth=0)\n",
    "plt.xlabel('followers')\n",
    "plt.ylabel('status posts')\n",
    "#plt.xscale('log')\n",
    "#plt.yscale('log')\n",
    "plt.show()"
   ]
  },
  {
   "cell_type": "code",
   "execution_count": 83,
   "metadata": {
    "collapsed": false
   },
   "outputs": [
    {
     "name": "stdout",
     "output_type": "stream",
     "text": [
      "followers 5410.20099189\n",
      "posts 33938.424217\n",
      "friends 1394.3675615\n"
     ]
    }
   ],
   "source": [
    "print \"followers\",np.mean(trumpuser[:,0])\n",
    "print \"posts\",np.mean(trumpuser[:,1])\n",
    "print \"friends\",np.mean(trumpuser[:,2])"
   ]
  },
  {
   "cell_type": "code",
   "execution_count": 84,
   "metadata": {
    "collapsed": false
   },
   "outputs": [
    {
     "name": "stdout",
     "output_type": "stream",
     "text": [
      "followers 447.0\n",
      "posts 11066.0\n",
      "friends 431.0\n"
     ]
    }
   ],
   "source": [
    "print \"followers\",np.median(trumpuser[:,0])\n",
    "print \"posts\",np.median(trumpuser[:,1])\n",
    "print \"friends\",np.median(trumpuser[:,2])"
   ]
  },
  {
   "cell_type": "code",
   "execution_count": null,
   "metadata": {
    "collapsed": true
   },
   "outputs": [],
   "source": []
  }
 ],
 "metadata": {
  "kernelspec": {
   "display_name": "Python 2",
   "language": "python",
   "name": "python2"
  },
  "language_info": {
   "codemirror_mode": {
    "name": "ipython",
    "version": 2
   },
   "file_extension": ".py",
   "mimetype": "text/x-python",
   "name": "python",
   "nbconvert_exporter": "python",
   "pygments_lexer": "ipython2",
   "version": "2.7.11"
  }
 },
 "nbformat": 4,
 "nbformat_minor": 0
}
