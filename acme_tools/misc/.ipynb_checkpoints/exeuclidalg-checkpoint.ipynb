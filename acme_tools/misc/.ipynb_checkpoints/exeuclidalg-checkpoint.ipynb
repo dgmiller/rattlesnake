{
 "cells": [
  {
   "cell_type": "code",
   "execution_count": 5,
   "metadata": {
    "collapsed": true
   },
   "outputs": [],
   "source": [
    "# Extended Euclidean Algorithm\n",
    "\n",
    "def gcd(a,b):\n",
    "    if b == 0:\n",
    "        return [1,0,a] # this implies ax + by = gcd(a,b) with x = 1 and y = 0.\n",
    "    else:\n",
    "        x,y,r = gcd(b,a%b) # backsubstituting produces these values.\n",
    "        return [y, x - (a//b)*y, r] # we return a new ax + by = gcd(a,b).        \n"
   ]
  },
  {
   "cell_type": "code",
   "execution_count": 12,
   "metadata": {
    "collapsed": false
   },
   "outputs": [
    {
     "name": "stdout",
     "output_type": "stream",
     "text": [
      "gcd(240,7) = ax + by = 240(-3) + 7(103) = 1\n"
     ]
    }
   ],
   "source": [
    "a = 240\n",
    "b = 7\n",
    "x,y,denom = gcd(a,b)\n",
    "print \"gcd(%d,%d) = ax + by = %d(%d) + %d(%d) = %d\" % (a, b, a, x, b, y, denom)"
   ]
  },
  {
   "cell_type": "code",
   "execution_count": 13,
   "metadata": {
    "collapsed": false
   },
   "outputs": [
    {
     "name": "stdout",
     "output_type": "stream",
     "text": [
      "gcd(132,8) = ax + by = 132(1) + 8(-16) = 4\n"
     ]
    }
   ],
   "source": [
    "a = 132\n",
    "b = 8\n",
    "x,y,denom = gcd(a,b)\n",
    "print \"gcd(%d,%d) = ax + by = %d(%d) + %d(%d) = %d\" % (a, b, a, x, b, y, denom)"
   ]
  },
  {
   "cell_type": "code",
   "execution_count": 17,
   "metadata": {
    "collapsed": false
   },
   "outputs": [
    {
     "name": "stdout",
     "output_type": "stream",
     "text": [
      "gcd(26,144) = ax + by = 26(-11) + 144(2) = 2\n"
     ]
    }
   ],
   "source": [
    "a = 26\n",
    "b = 144\n",
    "x,y,denom = gcd(a,b)\n",
    "print \"gcd(%d,%d) = ax + by = %d(%d) + %d(%d) = %d\" % (a, b, a, x, b, y, denom)"
   ]
  },
  {
   "cell_type": "code",
   "execution_count": 18,
   "metadata": {
    "collapsed": false
   },
   "outputs": [
    {
     "name": "stdout",
     "output_type": "stream",
     "text": [
      "gcd(243,12) = ax + by = 243(1) + 12(-20) = 3\n"
     ]
    }
   ],
   "source": [
    "a = 243\n",
    "b = 12\n",
    "x,y,denom = gcd(a,b)\n",
    "print \"gcd(%d,%d) = ax + by = %d(%d) + %d(%d) = %d\" % (a, b, a, x, b, y, denom)"
   ]
  },
  {
   "cell_type": "code",
   "execution_count": null,
   "metadata": {
    "collapsed": true
   },
   "outputs": [],
   "source": []
  }
 ],
 "metadata": {
  "kernelspec": {
   "display_name": "Python 2",
   "language": "python",
   "name": "python2"
  },
  "language_info": {
   "codemirror_mode": {
    "name": "ipython",
    "version": 2
   },
   "file_extension": ".py",
   "mimetype": "text/x-python",
   "name": "python",
   "nbconvert_exporter": "python",
   "pygments_lexer": "ipython2",
   "version": "2.7.9"
  }
 },
 "nbformat": 4,
 "nbformat_minor": 0
}
