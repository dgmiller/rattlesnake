{
 "cells": [
  {
   "cell_type": "code",
   "execution_count": 33,
   "metadata": {
    "collapsed": true
   },
   "outputs": [],
   "source": [
    "# Jarvis homework 4\n",
    "\n",
    "# problem 1.1.14\n",
    "\n",
    "def search_and_return(L):\n",
    "    n = len(L)\n",
    "    index = 0\n",
    "    b = 1\n",
    "    while b < n:\n",
    "        if L[index]>L[b]:\n",
    "            index = b\n",
    "            b += 1\n",
    "        else:\n",
    "            b += 1\n",
    "    return index\n"
   ]
  },
  {
   "cell_type": "code",
   "execution_count": 34,
   "metadata": {
    "collapsed": false
   },
   "outputs": [],
   "source": [
    "# problem 1.15\n",
    "\n",
    "def selection_sort(L):\n",
    "    n = len(L)\n",
    "    for a in range(n):\n",
    "        b = search_and_return(L[a:]) # find the index of min(L[a:])\n",
    "        L[a],L[b+a] = L[b+a],L[a] # b+a because our list shrinks by a\n",
    "\n",
    "    return L\n"
   ]
  },
  {
   "cell_type": "code",
   "execution_count": 35,
   "metadata": {
    "collapsed": true
   },
   "outputs": [],
   "source": [
    "# problem 1.16\n",
    "\n",
    "def min_dist(L):\n",
    "    points = []\n",
    "    true_dist = abs(L[0][0]-L[1][0]) + abs(L[0][1]-L[1][1])\n",
    "    for A in range(len(L)):\n",
    "        for a in range(1,len(L)-A):\n",
    "            dist = abs(L[A][0]-L[A+a][0]) + abs(L[A][1]-L[A+a][1])\n",
    "            if dist < true_dist:\n",
    "                points = [L[A],L[A+a]]\n",
    "                true_dist = dist\n",
    "            else:\n",
    "                continue\n",
    "    return points\n"
   ]
  },
  {
   "cell_type": "code",
   "execution_count": 36,
   "metadata": {
    "collapsed": true
   },
   "outputs": [],
   "source": [
    "# problem 1.17\n",
    "\n",
    "import numpy as np\n",
    "\n",
    "def mxm(k):\n",
    "    A = np.random.rand(10**k,10**k)\n",
    "    B = np.random.rand(10**k,10**k)\n",
    "    X = np.random.rand(10**k,1)\n",
    "    return A,B,X"
   ]
  },
  {
   "cell_type": "code",
   "execution_count": 37,
   "metadata": {
    "collapsed": false
   },
   "outputs": [
    {
     "name": "stdout",
     "output_type": "stream",
     "text": [
      "7\n",
      "True\n"
     ]
    }
   ],
   "source": [
    "# test case 1.14\n",
    "\n",
    "L = [3,4,2,5,6,9,10,1]\n",
    "ans = search_and_return(L)\n",
    "print ans\n",
    "print L[ans] == min(L)"
   ]
  },
  {
   "cell_type": "code",
   "execution_count": 38,
   "metadata": {
    "collapsed": false
   },
   "outputs": [
    {
     "name": "stdout",
     "output_type": "stream",
     "text": [
      "[1, 2, 3, 4, 5, 6, 9, 10]\n",
      "[1, 2, 3, 4, 5, 6, 7, 9]\n"
     ]
    }
   ],
   "source": [
    "# test case 1.15\n",
    "\n",
    "print selection_sort(L)\n",
    "print selection_sort([2,5,4,6,7,9,1,3])"
   ]
  },
  {
   "cell_type": "code",
   "execution_count": 39,
   "metadata": {
    "collapsed": false
   },
   "outputs": [
    {
     "name": "stdout",
     "output_type": "stream",
     "text": [
      "[(3, 1), (1, 2)]\n",
      "[(9, 4), (8, 7)]\n"
     ]
    }
   ],
   "source": [
    "# test case 1.16\n",
    "\n",
    "points = [(4,7),(6,9),(3,1),(1,2)]\n",
    "print min_dist(points)\n",
    "\n",
    "more_points = [(9,4),(3,6),(8,7),(1,2)]\n",
    "print min_dist(more_points)"
   ]
  },
  {
   "cell_type": "code",
   "execution_count": 40,
   "metadata": {
    "collapsed": false
   },
   "outputs": [
    {
     "name": "stdout",
     "output_type": "stream",
     "text": [
      "CPU times: user 37 µs, sys: 17 µs, total: 54 µs\n",
      "Wall time: 64.1 µs\n",
      "CPU times: user 44 µs, sys: 20 µs, total: 64 µs\n",
      "Wall time: 74.9 µs\n"
     ]
    }
   ],
   "source": [
    "# test case 1.17\n",
    "\n",
    "# for k = 1\n",
    "A,B,X = mxm(1)\n",
    "%time ans = np.dot(np.dot(A,B),X)\n",
    "%time ans = np.dot(A,np.dot(B,X))\n"
   ]
  },
  {
   "cell_type": "code",
   "execution_count": 41,
   "metadata": {
    "collapsed": false
   },
   "outputs": [
    {
     "name": "stdout",
     "output_type": "stream",
     "text": [
      "CPU times: user 1.29 ms, sys: 0 ns, total: 1.29 ms\n",
      "Wall time: 1.55 ms\n",
      "CPU times: user 0 ns, sys: 0 ns, total: 0 ns\n",
      "Wall time: 186 µs\n"
     ]
    }
   ],
   "source": [
    "# for k = 2\n",
    "A,B,X = mxm(2)\n",
    "%time ans = np.dot(np.dot(A,B),X)\n",
    "%time ans = np.dot(A,np.dot(B,X))\n"
   ]
  },
  {
   "cell_type": "code",
   "execution_count": 42,
   "metadata": {
    "collapsed": false
   },
   "outputs": [
    {
     "name": "stdout",
     "output_type": "stream",
     "text": [
      "CPU times: user 1.01 s, sys: 5.54 ms, total: 1.01 s\n",
      "Wall time: 1.01 s\n",
      "CPU times: user 6.02 ms, sys: 254 µs, total: 6.28 ms\n",
      "Wall time: 6.59 ms\n"
     ]
    }
   ],
   "source": [
    "# for k = 3\n",
    "A,B,X = mxm(3)\n",
    "%time ans = np.dot(np.dot(A,B),X)\n",
    "%time ans = np.dot(A,np.dot(B,X))\n"
   ]
  },
  {
   "cell_type": "code",
   "execution_count": 45,
   "metadata": {
    "collapsed": false
   },
   "outputs": [
    {
     "name": "stdout",
     "output_type": "stream",
     "text": [
      "In [13]: A,B,X = jarvis3.mxm(4)\n",
      "\n",
      "In [14]: %time ans = np.dot(np.dot(A,B),X)\n",
      "CPU times: user 16min 26s, sys: 19.7 s, total: 16min 46s\n",
      "Wall time: 25min 56s\n",
      "\n",
      "In [15]: %time ans = np.dot(A,np.dot(B,X))\n",
      "CPU times: user 1.03 s, sys: 3.58 s, total: 4.61 s\n",
      "Wall time: 1min 19s\n",
      "\n"
     ]
    }
   ],
   "source": [
    "# from a previously successful attempt with k = 4\n",
    "# ipython notebook was having trouble computing the answer\n",
    "print '''In [13]: A,B,X = jarvis3.mxm(4)\n",
    "\n",
    "In [14]: %time ans = np.dot(np.dot(A,B),X)\n",
    "CPU times: user 16min 26s, sys: 19.7 s, total: 16min 46s\n",
    "Wall time: 25min 56s\n",
    "'''\n",
    "print '''In [15]: %time ans = np.dot(A,np.dot(B,X))\n",
    "CPU times: user 1.03 s, sys: 3.58 s, total: 4.61 s\n",
    "Wall time: 1min 19s\n",
    "'''"
   ]
  },
  {
   "cell_type": "code",
   "execution_count": 48,
   "metadata": {
    "collapsed": true
   },
   "outputs": [],
   "source": [
    "# problem 1.18\n",
    "\n",
    "def ivectors(k):\n",
    "    I = np.eye(10**k)\n",
    "    u = np.random.rand(10**k,1)\n",
    "    v = np.random.rand(10**k,1)\n",
    "    x = np.random.rand(10**k,1)\n",
    "    return I,u,v,x"
   ]
  },
  {
   "cell_type": "code",
   "execution_count": 51,
   "metadata": {
    "collapsed": false
   },
   "outputs": [
    {
     "name": "stdout",
     "output_type": "stream",
     "text": [
      "CPU times: user 58 µs, sys: 23 µs, total: 81 µs\n",
      "Wall time: 91.8 µs\n",
      "CPU times: user 367 µs, sys: 0 ns, total: 367 µs\n",
      "Wall time: 278 µs\n"
     ]
    }
   ],
   "source": [
    "# test cases for 1.18\n",
    "\n",
    "# for k = 1\n",
    "I,u,v,x = ivectors(1)\n",
    "%time ans = np.dot((I + u.dot(np.transpose(v))),x)\n",
    "# I presume it was meant to compute x + u(v^t*x)\n",
    "%time ans = x + np.dot(u,np.dot(np.transpose(v),x))"
   ]
  },
  {
   "cell_type": "code",
   "execution_count": 53,
   "metadata": {
    "collapsed": false
   },
   "outputs": [
    {
     "name": "stdout",
     "output_type": "stream",
     "text": [
      "CPU times: user 1.04 ms, sys: 422 µs, total: 1.46 ms\n",
      "Wall time: 8.87 ms\n",
      "CPU times: user 359 µs, sys: 0 ns, total: 359 µs\n",
      "Wall time: 76.1 µs\n"
     ]
    }
   ],
   "source": [
    "# for k = 2\n",
    "I,u,v,x = ivectors(2)\n",
    "%time ans = np.dot((I + u.dot(np.transpose(v))),x)\n",
    "# I presume it was meant to compute x + u(v^t*x)\n",
    "%time ans = x + np.dot(u,np.dot(np.transpose(v),x))"
   ]
  },
  {
   "cell_type": "code",
   "execution_count": 54,
   "metadata": {
    "collapsed": false
   },
   "outputs": [
    {
     "name": "stdout",
     "output_type": "stream",
     "text": [
      "CPU times: user 16.6 ms, sys: 48.1 ms, total: 64.7 ms\n",
      "Wall time: 66.4 ms\n",
      "CPU times: user 377 µs, sys: 0 ns, total: 377 µs\n",
      "Wall time: 95.1 µs\n"
     ]
    }
   ],
   "source": [
    "# for k = 3\n",
    "I,u,v,x = ivectors(3)\n",
    "%time ans = np.dot((I + u.dot(np.transpose(v))),x)\n",
    "# I presume it was meant to compute x + u(v^t*x)\n",
    "%time ans = x + np.dot(u,np.dot(np.transpose(v),x))"
   ]
  },
  {
   "cell_type": "code",
   "execution_count": 55,
   "metadata": {
    "collapsed": false
   },
   "outputs": [
    {
     "name": "stdout",
     "output_type": "stream",
     "text": [
      "CPU times: user 1.44 s, sys: 2.11 s, total: 3.56 s\n",
      "Wall time: 56 s\n",
      "CPU times: user 1.08 ms, sys: 702 µs, total: 1.79 ms\n",
      "Wall time: 48.2 ms\n"
     ]
    }
   ],
   "source": [
    "# for k = 4\n",
    "I,u,v,x = ivectors(4)\n",
    "%time ans = np.dot((I + u.dot(np.transpose(v))),x)\n",
    "# I presume it was meant to compute x + u(v^t*x)\n",
    "%time ans = x + np.dot(u,np.dot(np.transpose(v),x))"
   ]
  },
  {
   "cell_type": "code",
   "execution_count": null,
   "metadata": {
    "collapsed": true
   },
   "outputs": [],
   "source": []
  }
 ],
 "metadata": {
  "kernelspec": {
   "display_name": "Python 2",
   "language": "python",
   "name": "python2"
  },
  "language_info": {
   "codemirror_mode": {
    "name": "ipython",
    "version": 2
   },
   "file_extension": ".py",
   "mimetype": "text/x-python",
   "name": "python",
   "nbconvert_exporter": "python",
   "pygments_lexer": "ipython2",
   "version": "2.7.9"
  }
 },
 "nbformat": 4,
 "nbformat_minor": 0
}
