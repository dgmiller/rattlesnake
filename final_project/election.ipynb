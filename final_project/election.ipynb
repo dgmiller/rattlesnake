{
 "cells": [
  {
   "cell_type": "code",
   "execution_count": 16,
   "metadata": {
    "collapsed": false
   },
   "outputs": [
    {
     "data": {
      "text/plain": [
       "<module 'utils' from 'utils.py'>"
      ]
     },
     "execution_count": 16,
     "metadata": {},
     "output_type": "execute_result"
    }
   ],
   "source": [
    "import numpy as np\n",
    "import pandas as pd\n",
    "import utils\n",
    "from matplotlib import pyplot as plt\n",
    "%matplotlib inline\n",
    "reload(utils)"
   ]
  },
  {
   "cell_type": "code",
   "execution_count": 17,
   "metadata": {
    "collapsed": false
   },
   "outputs": [],
   "source": [
    "trumpfile = '/run/media/derekgm@byu.local/FAMHIST/Data/final_project/trump.txt'\n",
    "#trumpfile = open('/home/derek/Desktop/trump.txt','r').readlines()"
   ]
  },
  {
   "cell_type": "markdown",
   "metadata": {
    "collapsed": true
   },
   "source": [
    "self.stats has the following variables:\n",
    "timestamp, number of user followers, number of user statuses, number of user friends\n",
    "\n",
    "To Do: Part-of-Speech tagger\n",
    "\n",
    "Some ideas\n",
    "\n",
    "+ remove web links from text; store as binary variable\n",
    "+ get rid of symbols\n",
    "+ remove RT; store as binary variable\n",
    "+ remove mentions; store as a list variable\n",
    "+ remove hashtags; store as a list variable\n",
    "\n",
    "As an initial analysis, perform bayesian bag of words on Trump and Clinton datasets to see which words are most predictive for different time periods."
   ]
  },
  {
   "cell_type": "code",
   "execution_count": 18,
   "metadata": {
    "collapsed": true
   },
   "outputs": [],
   "source": [
    "djt = utils.TwitterCorpus(trumpfile)"
   ]
  },
  {
   "cell_type": "code",
   "execution_count": 19,
   "metadata": {
    "collapsed": false
   },
   "outputs": [
    {
     "data": {
      "text/plain": [
       "(array([1112068]),)"
      ]
     },
     "execution_count": 19,
     "metadata": {},
     "output_type": "execute_result"
    }
   ],
   "source": [
    "np.nonzero(djt.timestamps<0)"
   ]
  },
  {
   "cell_type": "code",
   "execution_count": 20,
   "metadata": {
    "collapsed": false
   },
   "outputs": [
    {
     "data": {
      "text/plain": [
       "-9999999999.0"
      ]
     },
     "execution_count": 20,
     "metadata": {},
     "output_type": "execute_result"
    }
   ],
   "source": [
    "djt.timestamps[1112068]"
   ]
  },
  {
   "cell_type": "code",
   "execution_count": 21,
   "metadata": {
    "collapsed": false
   },
   "outputs": [
    {
     "name": "stdout",
     "output_type": "stream",
     "text": [
      "2666820\n",
      "100\n"
     ]
    }
   ],
   "source": [
    "print len(djt.words)\n",
    "djt.clean_text(100,200)\n",
    "print len(djt.words)"
   ]
  },
  {
   "cell_type": "code",
   "execution_count": 61,
   "metadata": {
    "collapsed": false
   },
   "outputs": [],
   "source": [
    "# convert trumptime to something useable\n",
    "# d2 = datetime.datetime.fromtimestamp(trumptime)\n",
    "# print d2.date(),d2.time()"
   ]
  }
 ],
 "metadata": {
  "kernelspec": {
   "display_name": "Python 2",
   "language": "python",
   "name": "python2"
  },
  "language_info": {
   "codemirror_mode": {
    "name": "ipython",
    "version": 2
   },
   "file_extension": ".py",
   "mimetype": "text/x-python",
   "name": "python",
   "nbconvert_exporter": "python",
   "pygments_lexer": "ipython2",
   "version": "2.7.11"
  }
 },
 "nbformat": 4,
 "nbformat_minor": 0
}
