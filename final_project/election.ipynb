{
 "cells": [
  {
   "cell_type": "code",
   "execution_count": 1,
   "metadata": {
    "collapsed": false
   },
   "outputs": [
    {
     "data": {
      "text/plain": [
       "<module 'utils' from 'utils.pyc'>"
      ]
     },
     "execution_count": 1,
     "metadata": {},
     "output_type": "execute_result"
    }
   ],
   "source": [
    "import numpy as np\n",
    "import pandas as pd\n",
    "import utils as ut\n",
    "from matplotlib import pyplot as plt\n",
    "%matplotlib inline\n",
    "reload(ut)"
   ]
  },
  {
   "cell_type": "code",
   "execution_count": 2,
   "metadata": {
    "collapsed": false
   },
   "outputs": [
    {
     "name": "stdout",
     "output_type": "stream",
     "text": [
      "\n",
      "\tOptions\n",
      "\n",
      "            1: trump from lab computer\n",
      "\n",
      "            2: trump from linux mint\n",
      "\n",
      "            3: clinton from lab computer\n",
      "\n",
      "            4: clinton from linux mint\n",
      "\n",
      "\n",
      "Enter number >> 1\n",
      "Loading file...\n",
      "Errors: 0\n",
      "Time: 8.12840890884\n",
      "\n",
      "clean_text\n",
      "Time: 29.1899750233\n",
      "\n",
      "convert time\n",
      "Time: 13.3039419651\n"
     ]
    }
   ],
   "source": [
    "djt = ut.load_candidate()"
   ]
  },
  {
   "cell_type": "code",
   "execution_count": 3,
   "metadata": {
    "collapsed": false
   },
   "outputs": [
    {
     "data": {
      "text/html": [
       "<div>\n",
       "<table border=\"1\" class=\"dataframe\">\n",
       "  <thead>\n",
       "    <tr style=\"text-align: right;\">\n",
       "      <th></th>\n",
       "      <th>date</th>\n",
       "      <th>time</th>\n",
       "      <th>timestamp</th>\n",
       "      <th>usr_fol</th>\n",
       "      <th>usr_num_stat</th>\n",
       "      <th>usr_fri</th>\n",
       "      <th>n_weblinks</th>\n",
       "      <th>n_mentions</th>\n",
       "      <th>n_hashtags</th>\n",
       "      <th>RT</th>\n",
       "    </tr>\n",
       "  </thead>\n",
       "  <tbody>\n",
       "    <tr>\n",
       "      <th>1284127</th>\n",
       "      <td>2016-11-08</td>\n",
       "      <td>12:28:26</td>\n",
       "      <td>1.478633e+09</td>\n",
       "      <td>36.0</td>\n",
       "      <td>712.0</td>\n",
       "      <td>62.0</td>\n",
       "      <td>0</td>\n",
       "      <td>1</td>\n",
       "      <td>0</td>\n",
       "      <td>1</td>\n",
       "    </tr>\n",
       "    <tr>\n",
       "      <th>1284128</th>\n",
       "      <td>2016-11-08</td>\n",
       "      <td>12:28:26</td>\n",
       "      <td>1.478633e+09</td>\n",
       "      <td>24.0</td>\n",
       "      <td>512.0</td>\n",
       "      <td>55.0</td>\n",
       "      <td>0</td>\n",
       "      <td>1</td>\n",
       "      <td>0</td>\n",
       "      <td>1</td>\n",
       "    </tr>\n",
       "    <tr>\n",
       "      <th>1284129</th>\n",
       "      <td>2016-11-08</td>\n",
       "      <td>12:28:26</td>\n",
       "      <td>1.478633e+09</td>\n",
       "      <td>162.0</td>\n",
       "      <td>733.0</td>\n",
       "      <td>214.0</td>\n",
       "      <td>0</td>\n",
       "      <td>1</td>\n",
       "      <td>1</td>\n",
       "      <td>1</td>\n",
       "    </tr>\n",
       "    <tr>\n",
       "      <th>1284130</th>\n",
       "      <td>2016-11-08</td>\n",
       "      <td>12:28:26</td>\n",
       "      <td>1.478633e+09</td>\n",
       "      <td>2636.0</td>\n",
       "      <td>5395.0</td>\n",
       "      <td>2721.0</td>\n",
       "      <td>1</td>\n",
       "      <td>1</td>\n",
       "      <td>1</td>\n",
       "      <td>0</td>\n",
       "    </tr>\n",
       "    <tr>\n",
       "      <th>1284131</th>\n",
       "      <td>2016-11-08</td>\n",
       "      <td>12:28:26</td>\n",
       "      <td>1.478633e+09</td>\n",
       "      <td>81.0</td>\n",
       "      <td>2340.0</td>\n",
       "      <td>144.0</td>\n",
       "      <td>0</td>\n",
       "      <td>1</td>\n",
       "      <td>1</td>\n",
       "      <td>1</td>\n",
       "    </tr>\n",
       "  </tbody>\n",
       "</table>\n",
       "</div>"
      ],
      "text/plain": [
       "               date      time     timestamp  usr_fol  usr_num_stat  usr_fri  \\\n",
       "1284127  2016-11-08  12:28:26  1.478633e+09     36.0         712.0     62.0   \n",
       "1284128  2016-11-08  12:28:26  1.478633e+09     24.0         512.0     55.0   \n",
       "1284129  2016-11-08  12:28:26  1.478633e+09    162.0         733.0    214.0   \n",
       "1284130  2016-11-08  12:28:26  1.478633e+09   2636.0        5395.0   2721.0   \n",
       "1284131  2016-11-08  12:28:26  1.478633e+09     81.0        2340.0    144.0   \n",
       "\n",
       "         n_weblinks  n_mentions  n_hashtags  RT  \n",
       "1284127           0           1           0   1  \n",
       "1284128           0           1           0   1  \n",
       "1284129           0           1           1   1  \n",
       "1284130           1           1           1   0  \n",
       "1284131           0           1           1   1  "
      ]
     },
     "execution_count": 3,
     "metadata": {},
     "output_type": "execute_result"
    }
   ],
   "source": [
    "djt_df = djt.make_df()\n",
    "djt_df = djt_df.groupby(by='date')\n",
    "djt_df = djt_df.get_group(djt_df.groups.keys()[9])\n",
    "djt_df.head()"
   ]
  },
  {
   "cell_type": "code",
   "execution_count": 4,
   "metadata": {
    "collapsed": false
   },
   "outputs": [
    {
     "name": "stdout",
     "output_type": "stream",
     "text": [
      "\n",
      "\tOptions\n",
      "\n",
      "            1: trump from lab computer\n",
      "\n",
      "            2: trump from linux mint\n",
      "\n",
      "            3: clinton from lab computer\n",
      "\n",
      "            4: clinton from linux mint\n",
      "\n",
      "\n",
      "Enter number >> 3\n",
      "Loading file...\n",
      "Errors: 0\n",
      "Time: 6.7949860096\n",
      "\n",
      "clean_text\n",
      "Time: 22.7971968651\n",
      "\n",
      "convert time\n",
      "Time: 13.757997036\n"
     ]
    }
   ],
   "source": [
    "hrc = ut.load_candidate()"
   ]
  },
  {
   "cell_type": "code",
   "execution_count": 7,
   "metadata": {
    "collapsed": false
   },
   "outputs": [
    {
     "data": {
      "text/html": [
       "<div>\n",
       "<table border=\"1\" class=\"dataframe\">\n",
       "  <thead>\n",
       "    <tr style=\"text-align: right;\">\n",
       "      <th></th>\n",
       "      <th>date</th>\n",
       "      <th>time</th>\n",
       "      <th>timestamp</th>\n",
       "      <th>usr_fol</th>\n",
       "      <th>usr_num_stat</th>\n",
       "      <th>usr_fri</th>\n",
       "      <th>n_weblinks</th>\n",
       "      <th>n_mentions</th>\n",
       "      <th>n_hashtags</th>\n",
       "      <th>RT</th>\n",
       "    </tr>\n",
       "  </thead>\n",
       "  <tbody>\n",
       "    <tr>\n",
       "      <th>1896287</th>\n",
       "      <td>2016-11-08</td>\n",
       "      <td>23:59:59</td>\n",
       "      <td>1.478675e+09</td>\n",
       "      <td>196.0</td>\n",
       "      <td>5193.0</td>\n",
       "      <td>146.0</td>\n",
       "      <td>0</td>\n",
       "      <td>1</td>\n",
       "      <td>0</td>\n",
       "      <td>1</td>\n",
       "    </tr>\n",
       "    <tr>\n",
       "      <th>1896288</th>\n",
       "      <td>2016-11-08</td>\n",
       "      <td>23:59:59</td>\n",
       "      <td>1.478675e+09</td>\n",
       "      <td>221.0</td>\n",
       "      <td>7743.0</td>\n",
       "      <td>167.0</td>\n",
       "      <td>1</td>\n",
       "      <td>1</td>\n",
       "      <td>0</td>\n",
       "      <td>1</td>\n",
       "    </tr>\n",
       "    <tr>\n",
       "      <th>1896289</th>\n",
       "      <td>2016-11-08</td>\n",
       "      <td>23:59:59</td>\n",
       "      <td>1.478675e+09</td>\n",
       "      <td>356.0</td>\n",
       "      <td>11617.0</td>\n",
       "      <td>404.0</td>\n",
       "      <td>0</td>\n",
       "      <td>1</td>\n",
       "      <td>0</td>\n",
       "      <td>1</td>\n",
       "    </tr>\n",
       "    <tr>\n",
       "      <th>1896292</th>\n",
       "      <td>2016-11-08</td>\n",
       "      <td>23:59:59</td>\n",
       "      <td>1.478675e+09</td>\n",
       "      <td>31.0</td>\n",
       "      <td>3034.0</td>\n",
       "      <td>165.0</td>\n",
       "      <td>0</td>\n",
       "      <td>1</td>\n",
       "      <td>0</td>\n",
       "      <td>1</td>\n",
       "    </tr>\n",
       "    <tr>\n",
       "      <th>1896299</th>\n",
       "      <td>2016-11-08</td>\n",
       "      <td>23:59:59</td>\n",
       "      <td>1.478675e+09</td>\n",
       "      <td>794.0</td>\n",
       "      <td>14783.0</td>\n",
       "      <td>1376.0</td>\n",
       "      <td>1</td>\n",
       "      <td>0</td>\n",
       "      <td>0</td>\n",
       "      <td>0</td>\n",
       "    </tr>\n",
       "  </tbody>\n",
       "</table>\n",
       "</div>"
      ],
      "text/plain": [
       "               date      time     timestamp  usr_fol  usr_num_stat  usr_fri  \\\n",
       "1896287  2016-11-08  23:59:59  1.478675e+09    196.0        5193.0    146.0   \n",
       "1896288  2016-11-08  23:59:59  1.478675e+09    221.0        7743.0    167.0   \n",
       "1896289  2016-11-08  23:59:59  1.478675e+09    356.0       11617.0    404.0   \n",
       "1896292  2016-11-08  23:59:59  1.478675e+09     31.0        3034.0    165.0   \n",
       "1896299  2016-11-08  23:59:59  1.478675e+09    794.0       14783.0   1376.0   \n",
       "\n",
       "         n_weblinks  n_mentions  n_hashtags  RT  \n",
       "1896287           0           1           0   1  \n",
       "1896288           1           1           0   1  \n",
       "1896289           0           1           0   1  \n",
       "1896292           0           1           0   1  \n",
       "1896299           1           0           0   0  "
      ]
     },
     "execution_count": 7,
     "metadata": {},
     "output_type": "execute_result"
    }
   ],
   "source": [
    "hrc_df = hrc.make_df()\n",
    "hrc_df = hrc_df.groupby(by='date')\n",
    "hrc_df = hrc_df.get_group(hrc_df.groups.keys()[9])\n",
    "hrc_df.tail()"
   ]
  },
  {
   "cell_type": "code",
   "execution_count": 8,
   "metadata": {
    "collapsed": false
   },
   "outputs": [
    {
     "data": {
      "text/html": [
       "<div>\n",
       "<table border=\"1\" class=\"dataframe\">\n",
       "  <thead>\n",
       "    <tr style=\"text-align: right;\">\n",
       "      <th></th>\n",
       "      <th>timestamp</th>\n",
       "      <th>usr_fol</th>\n",
       "      <th>usr_num_stat</th>\n",
       "      <th>usr_fri</th>\n",
       "      <th>n_weblinks</th>\n",
       "      <th>n_mentions</th>\n",
       "      <th>n_hashtags</th>\n",
       "      <th>RT</th>\n",
       "    </tr>\n",
       "    <tr>\n",
       "      <th>time</th>\n",
       "      <th></th>\n",
       "      <th></th>\n",
       "      <th></th>\n",
       "      <th></th>\n",
       "      <th></th>\n",
       "      <th></th>\n",
       "      <th></th>\n",
       "      <th></th>\n",
       "    </tr>\n",
       "  </thead>\n",
       "  <tbody>\n",
       "    <tr>\n",
       "      <th>12:28:45</th>\n",
       "      <td>1.035043e+10</td>\n",
       "      <td>28911.0</td>\n",
       "      <td>569575.0</td>\n",
       "      <td>26257.0</td>\n",
       "      <td>3</td>\n",
       "      <td>9</td>\n",
       "      <td>2</td>\n",
       "      <td>5</td>\n",
       "    </tr>\n",
       "    <tr>\n",
       "      <th>12:28:46</th>\n",
       "      <td>9.758980e+10</td>\n",
       "      <td>842777.0</td>\n",
       "      <td>1188112.0</td>\n",
       "      <td>175660.0</td>\n",
       "      <td>32</td>\n",
       "      <td>55</td>\n",
       "      <td>21</td>\n",
       "      <td>48</td>\n",
       "    </tr>\n",
       "    <tr>\n",
       "      <th>12:28:47</th>\n",
       "      <td>4.435900e+10</td>\n",
       "      <td>22915.0</td>\n",
       "      <td>769046.0</td>\n",
       "      <td>29143.0</td>\n",
       "      <td>11</td>\n",
       "      <td>29</td>\n",
       "      <td>12</td>\n",
       "      <td>22</td>\n",
       "    </tr>\n",
       "    <tr>\n",
       "      <th>12:28:48</th>\n",
       "      <td>5.323080e+10</td>\n",
       "      <td>689839.0</td>\n",
       "      <td>1551716.0</td>\n",
       "      <td>45196.0</td>\n",
       "      <td>21</td>\n",
       "      <td>31</td>\n",
       "      <td>11</td>\n",
       "      <td>21</td>\n",
       "    </tr>\n",
       "    <tr>\n",
       "      <th>12:28:49</th>\n",
       "      <td>5.323080e+10</td>\n",
       "      <td>189617.0</td>\n",
       "      <td>608032.0</td>\n",
       "      <td>128012.0</td>\n",
       "      <td>24</td>\n",
       "      <td>31</td>\n",
       "      <td>7</td>\n",
       "      <td>25</td>\n",
       "    </tr>\n",
       "  </tbody>\n",
       "</table>\n",
       "</div>"
      ],
      "text/plain": [
       "             timestamp   usr_fol  usr_num_stat   usr_fri  n_weblinks  \\\n",
       "time                                                                   \n",
       "12:28:45  1.035043e+10   28911.0      569575.0   26257.0           3   \n",
       "12:28:46  9.758980e+10  842777.0     1188112.0  175660.0          32   \n",
       "12:28:47  4.435900e+10   22915.0      769046.0   29143.0          11   \n",
       "12:28:48  5.323080e+10  689839.0     1551716.0   45196.0          21   \n",
       "12:28:49  5.323080e+10  189617.0      608032.0  128012.0          24   \n",
       "\n",
       "          n_mentions  n_hashtags  RT  \n",
       "time                                  \n",
       "12:28:45           9           2   5  \n",
       "12:28:46          55          21  48  \n",
       "12:28:47          29          12  22  \n",
       "12:28:48          31          11  21  \n",
       "12:28:49          31           7  25  "
      ]
     },
     "execution_count": 8,
     "metadata": {},
     "output_type": "execute_result"
    }
   ],
   "source": [
    "ex = hrc_df.groupby(by='time').sum()\n",
    "ex.head()"
   ]
  },
  {
   "cell_type": "code",
   "execution_count": 17,
   "metadata": {
    "collapsed": false
   },
   "outputs": [
    {
     "data": {
      "text/plain": [
       "<matplotlib.axes._subplots.AxesSubplot at 0x7f8787aaf110>"
      ]
     },
     "execution_count": 17,
     "metadata": {},
     "output_type": "execute_result"
    },
    {
     "data": {
      "image/png": "[encoded data removed]",
      "text/plain": [
       "<matplotlib.figure.Figure at 0x7f8787e035d0>"
      ]
     },
     "metadata": {},
     "output_type": "display_data"
    }
   ],
   "source": [
    "ex.sort_values(by='timestamp',inplace=True)\n",
    "ex.plot(y='RT')"
   ]
  },
  {
   "cell_type": "code",
   "execution_count": 18,
   "metadata": {
    "collapsed": false
   },
   "outputs": [
    {
     "data": {
      "text/plain": [
       "<matplotlib.axes._subplots.AxesSubplot at 0x7f8786c05390>"
      ]
     },
     "execution_count": 18,
     "metadata": {},
     "output_type": "execute_result"
    },
    {
     "data": {
      "image/png": "[encoded data removed]",
      "text/plain": [
       "<matplotlib.figure.Figure at 0x7f8786930350>"
      ]
     },
     "metadata": {},
     "output_type": "display_data"
    }
   ],
   "source": [
    "ex.plot(x='timestamp',y='RT')"
   ]
  },
  {
   "cell_type": "code",
   "execution_count": 11,
   "metadata": {
    "collapsed": false
   },
   "outputs": [
    {
     "data": {
      "text/plain": [
       "<matplotlib.axes._subplots.AxesSubplot at 0x7f8786a1d190>"
      ]
     },
     "execution_count": 11,
     "metadata": {},
     "output_type": "execute_result"
    },
    {
     "data": {
      "image/png": "[encoded data removed]",
      "text/plain": [
       "<matplotlib.figure.Figure at 0x7f8786a4db10>"
      ]
     },
     "metadata": {},
     "output_type": "display_data"
    }
   ],
   "source": [
    "ex.plot(x='timestamp',y='n_hashtags')"
   ]
  },
  {
   "cell_type": "code",
   "execution_count": 12,
   "metadata": {
    "collapsed": false
   },
   "outputs": [
    {
     "data": {
      "text/plain": [
       "<matplotlib.axes._subplots.AxesSubplot at 0x7f87863339d0>"
      ]
     },
     "execution_count": 12,
     "metadata": {},
     "output_type": "execute_result"
    },
    {
     "data": {
      "image/png": "[encoded data removed]",
      "text/plain": [
       "<matplotlib.figure.Figure at 0x7f8786282d50>"
      ]
     },
     "metadata": {},
     "output_type": "display_data"
    }
   ],
   "source": [
    "ex.plot(x='timestamp',y='n_mentions')"
   ]
  },
  {
   "cell_type": "code",
   "execution_count": 13,
   "metadata": {
    "collapsed": false
   },
   "outputs": [
    {
     "data": {
      "text/plain": [
       "<matplotlib.axes._subplots.AxesSubplot at 0x7f87865bb250>"
      ]
     },
     "execution_count": 13,
     "metadata": {},
     "output_type": "execute_result"
    },
    {
     "data": {
      "image/png": "[encoded data removed]",
      "text/plain": [
       "<matplotlib.figure.Figure at 0x7f882c0c7050>"
      ]
     },
     "metadata": {},
     "output_type": "display_data"
    }
   ],
   "source": [
    "ex.plot(x='timestamp',y='n_weblinks')"
   ]
  },
  {
   "cell_type": "code",
   "execution_count": null,
   "metadata": {
    "collapsed": true
   },
   "outputs": [],
   "source": []
  }
 ],
 "metadata": {
  "kernelspec": {
   "display_name": "Python 2",
   "language": "python",
   "name": "python2"
  },
  "language_info": {
   "codemirror_mode": {
    "name": "ipython",
    "version": 2
   },
   "file_extension": ".py",
   "mimetype": "text/x-python",
   "name": "python",
   "nbconvert_exporter": "python",
   "pygments_lexer": "ipython2",
   "version": "2.7.11"
  }
 },
 "nbformat": 4,
 "nbformat_minor": 0
}
