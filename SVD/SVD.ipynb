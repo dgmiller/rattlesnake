{
 "cells": [
  {
   "cell_type": "code",
   "execution_count": 7,
   "metadata": {
    "collapsed": true
   },
   "outputs": [],
   "source": [
    "# solutions.py\n",
    "# Derek Miller\n",
    "# Evans lab\n",
    "from scipy import linalg as la\n",
    "import numpy as np\n",
    "from matplotlib import pyplot as plt\n",
    "%matplotlib inline\n"
   ]
  },
  {
   "cell_type": "code",
   "execution_count": 2,
   "metadata": {
    "collapsed": true
   },
   "outputs": [],
   "source": [
    "# Problem 1\n",
    "def truncated_svd(A,r=None,tol=10**-6):\n",
    "    \"\"\"Computes the truncated SVD of A. If r is None or equals the number \n",
    "        of nonzero singular values, it is the compact SVD.\n",
    "    Parameters:\n",
    "        A: the matrix\n",
    "        r: the number of singular values to use\n",
    "        tol: the tolerance for zero\n",
    "    Returns:\n",
    "        U - the matrix U in the SVD\n",
    "        s - the diagonals of Sigma in the SVD\n",
    "        Vh - the matrix V^H in the SVD\n",
    "    \"\"\"\n",
    "    AhA = np.dot(A.T,A)\n",
    "    eigvals,eigvecs = la.eig(AhA)\n",
    "    if r is None:\n",
    "        r = len(np.nonzeros(eigvals))\n",
    "    indices = np.argsort(eigvals)\n",
    "    indices = indices[::-1]\n",
    "    eigvals = eigvals[indices]\n",
    "    eigvecs = eigvecs[indices]\n",
    "    eigvecs = eigvecs[:r]\n",
    "\n",
    "    s = np.sqrt(eigvals[:r])\n",
    "    V = eigvecs.T\n",
    "    #U = np.array([(1./x)*(np.dot(A,y)) for x in s and y in evecs.T])\n",
    "    return s,V\n"
   ]
  },
  {
   "cell_type": "code",
   "execution_count": 8,
   "metadata": {
    "collapsed": true
   },
   "outputs": [],
   "source": [
    "# Problem 2\n",
    "def visualize_svd():\n",
    "    \"\"\"Plot each transformation associated with the SVD of A.\"\"\"\n",
    "    unit_vector = np.load('circle.npz')['unit_vectors']\n",
    "    circ = np.load('circle.npz')['circle']\n",
    "    x_vec = unit_vector[0]\n",
    "    y_vec = unit_vector[1]\n",
    "    A = np.array([[3,1],[1,3]])\n",
    "    U,E,Vh = la.svd(A)\n",
    "    c1 = np.dot(Vh,circ[0])\n",
    "    c2 = np.dot(Vh,circ[1])\n",
    "    c3 = np.dot(E,c1)\n",
    "    c4 = np.dot(E,c2)\n",
    "    c5 = np.dot(U,c3)\n",
    "    c4 = np.dot(U,c4)\n",
    "\n",
    "    plt.subplot(111)\n",
    "    plt.plot(x_vec,y_vec,circ[0],circ[1])\n",
    "    plt.subplot(122)\n",
    "    plt.plot(x_vec,y_vec,c1,c2)\n",
    "    plt.subplot(213)\n",
    "    plt.plot(x_vec,y_vec,c3,c4)\n",
    "    plt.subplot(224)\n",
    "    plt.plot(x_vec,y_vec,c5,c6)\n",
    "    plt.show()\n",
    "\n"
   ]
  },
  {
   "cell_type": "code",
   "execution_count": 9,
   "metadata": {
    "collapsed": false
   },
   "outputs": [
    {
     "ename": "ValueError",
     "evalue": "shapes (2,2) and (400,) not aligned: 2 (dim 1) != 400 (dim 0)",
     "output_type": "error",
     "traceback": [
      "\u001b[1;31m---------------------------------------------------------------------------\u001b[0m",
      "\u001b[1;31mValueError\u001b[0m                                Traceback (most recent call last)",
      "\u001b[1;32m<ipython-input-9-ea68c41e4bf6>\u001b[0m in \u001b[0;36m<module>\u001b[1;34m()\u001b[0m\n\u001b[1;32m----> 1\u001b[1;33m \u001b[0mvisualize_svd\u001b[0m\u001b[1;33m(\u001b[0m\u001b[1;33m)\u001b[0m\u001b[1;33m\u001b[0m\u001b[0m\n\u001b[0m",
      "\u001b[1;32m<ipython-input-8-bf48f21d62c8>\u001b[0m in \u001b[0;36mvisualize_svd\u001b[1;34m()\u001b[0m\n\u001b[0;32m      8\u001b[0m     \u001b[0mA\u001b[0m \u001b[1;33m=\u001b[0m \u001b[0mnp\u001b[0m\u001b[1;33m.\u001b[0m\u001b[0marray\u001b[0m\u001b[1;33m(\u001b[0m\u001b[1;33m[\u001b[0m\u001b[1;33m[\u001b[0m\u001b[1;36m3\u001b[0m\u001b[1;33m,\u001b[0m\u001b[1;36m1\u001b[0m\u001b[1;33m]\u001b[0m\u001b[1;33m,\u001b[0m\u001b[1;33m[\u001b[0m\u001b[1;36m1\u001b[0m\u001b[1;33m,\u001b[0m\u001b[1;36m3\u001b[0m\u001b[1;33m]\u001b[0m\u001b[1;33m]\u001b[0m\u001b[1;33m)\u001b[0m\u001b[1;33m\u001b[0m\u001b[0m\n\u001b[0;32m      9\u001b[0m     \u001b[0mU\u001b[0m\u001b[1;33m,\u001b[0m\u001b[0mE\u001b[0m\u001b[1;33m,\u001b[0m\u001b[0mVh\u001b[0m \u001b[1;33m=\u001b[0m \u001b[0mla\u001b[0m\u001b[1;33m.\u001b[0m\u001b[0msvd\u001b[0m\u001b[1;33m(\u001b[0m\u001b[0mA\u001b[0m\u001b[1;33m)\u001b[0m\u001b[1;33m\u001b[0m\u001b[0m\n\u001b[1;32m---> 10\u001b[1;33m     \u001b[0mc1\u001b[0m \u001b[1;33m=\u001b[0m \u001b[0mnp\u001b[0m\u001b[1;33m.\u001b[0m\u001b[0mdot\u001b[0m\u001b[1;33m(\u001b[0m\u001b[0mVh\u001b[0m\u001b[1;33m,\u001b[0m\u001b[0mcirc\u001b[0m\u001b[1;33m[\u001b[0m\u001b[1;36m0\u001b[0m\u001b[1;33m]\u001b[0m\u001b[1;33m)\u001b[0m\u001b[1;33m\u001b[0m\u001b[0m\n\u001b[0m\u001b[0;32m     11\u001b[0m     \u001b[0mc2\u001b[0m \u001b[1;33m=\u001b[0m \u001b[0mnp\u001b[0m\u001b[1;33m.\u001b[0m\u001b[0mdot\u001b[0m\u001b[1;33m(\u001b[0m\u001b[0mVh\u001b[0m\u001b[1;33m,\u001b[0m\u001b[0mcirc\u001b[0m\u001b[1;33m[\u001b[0m\u001b[1;36m1\u001b[0m\u001b[1;33m]\u001b[0m\u001b[1;33m)\u001b[0m\u001b[1;33m\u001b[0m\u001b[0m\n\u001b[0;32m     12\u001b[0m     \u001b[0mc3\u001b[0m \u001b[1;33m=\u001b[0m \u001b[0mnp\u001b[0m\u001b[1;33m.\u001b[0m\u001b[0mdot\u001b[0m\u001b[1;33m(\u001b[0m\u001b[0mE\u001b[0m\u001b[1;33m,\u001b[0m\u001b[0mc1\u001b[0m\u001b[1;33m)\u001b[0m\u001b[1;33m\u001b[0m\u001b[0m\n",
      "\u001b[1;31mValueError\u001b[0m: shapes (2,2) and (400,) not aligned: 2 (dim 1) != 400 (dim 0)"
     ]
    }
   ],
   "source": [
    "visualize_svd()"
   ]
  },
  {
   "cell_type": "code",
   "execution_count": 4,
   "metadata": {
    "collapsed": true
   },
   "outputs": [],
   "source": [
    "# Problem 3\n",
    "def svd_approx(A, k):\n",
    "    \"\"\"Returns best rank k approximation to A with respect to the induced 2-norm.\n",
    "    \n",
    "    Inputs:\n",
    "    A - np.ndarray of size mxn\n",
    "    k - rank \n",
    "    \n",
    "    Return:\n",
    "    Ahat - the best rank k approximation\n",
    "    \"\"\""
   ]
  },
  {
   "cell_type": "code",
   "execution_count": 5,
   "metadata": {
    "collapsed": true
   },
   "outputs": [],
   "source": [
    "# Problem 4\n",
    "def lowest_rank_approx(A,e):\n",
    "    \"\"\"Returns the lowest rank approximation of A with error less than e \n",
    "    with respect to the induced 2-norm.\n",
    "    \n",
    "    Inputs:\n",
    "    A - np.ndarray of size mxn\n",
    "    e - error\n",
    "    \n",
    "    Return:\n",
    "    Ahat - the lowest rank approximation of A with error less than e.\n",
    "    \"\"\"\n",
    "    "
   ]
  },
  {
   "cell_type": "code",
   "execution_count": 6,
   "metadata": {
    "collapsed": true
   },
   "outputs": [],
   "source": [
    "# Problem 5\n",
    "def compress_image(filename,k):\n",
    "    \"\"\"Plot the original image found at 'filename' and the rank k approximation\n",
    "    of the image found at 'filename.'\n",
    "    \n",
    "    filename - jpg image file path\n",
    "    k - rank\n",
    "    \"\"\"\n"
   ]
  },
  {
   "cell_type": "code",
   "execution_count": null,
   "metadata": {
    "collapsed": true
   },
   "outputs": [],
   "source": []
  }
 ],
 "metadata": {
  "kernelspec": {
   "display_name": "Python 2",
   "language": "python",
   "name": "python2"
  },
  "language_info": {
   "codemirror_mode": {
    "name": "ipython",
    "version": 2
   },
   "file_extension": ".py",
   "mimetype": "text/x-python",
   "name": "python",
   "nbconvert_exporter": "python",
   "pygments_lexer": "ipython2",
   "version": "2.7.10"
  }
 },
 "nbformat": 4,
 "nbformat_minor": 0
}
